{
  "cells": [
    {
      "cell_type": "code",
      "execution_count": null,
      "id": "8cbd481b",
      "metadata": {
        "id": "8cbd481b"
      },
      "outputs": [],
      "source": [
        "import pandas as pd\n",
        "import numpy as np\n",
        "import seaborn as sns\n",
        "import matplotlib.pyplot as plt\n",
        "from datetime import datetime\n",
        "from dateutil.relativedelta import relativedelta\n",
        "from statistics import mode"
      ]
    },
    {
      "cell_type": "code",
      "execution_count": null,
      "id": "bfac8fce",
      "metadata": {
        "colab": {
          "base_uri": "https://localhost:8080/"
        },
        "id": "bfac8fce",
        "outputId": "e023422b-a79f-4e7c-e8d4-d0f9cf3c4431"
      },
      "outputs": [
        {
          "output_type": "stream",
          "name": "stderr",
          "text": [
            "<ipython-input-356-9a020ca10176>:2: DtypeWarning: Columns (47) have mixed types. Specify dtype option on import or set low_memory=False.\n",
            "  loan =pd.read_csv('https://raw.githubusercontent.com/Prince10oct/lendingCaseStudy/master/loan.csv')\n"
          ]
        }
      ],
      "source": [
        "#read the loan file and explore the date\n",
        "loan =pd.read_csv('https://raw.githubusercontent.com/Prince10oct/lendingCaseStudy/master/loan.csv')"
      ]
    },
    {
      "cell_type": "code",
      "execution_count": null,
      "id": "b4d115fe",
      "metadata": {
        "colab": {
          "base_uri": "https://localhost:8080/"
        },
        "id": "b4d115fe",
        "outputId": "569f1e1b-3912-4c00-8e3d-14acecefba65"
      },
      "outputs": [
        {
          "output_type": "execute_result",
          "data": {
            "text/plain": [
              "(39717, 111)"
            ]
          },
          "metadata": {},
          "execution_count": 357
        }
      ],
      "source": [
        "#printing the shape of the dataframe\n",
        "loan.shape"
      ]
    },
    {
      "cell_type": "code",
      "execution_count": null,
      "id": "b645e320",
      "metadata": {
        "colab": {
          "base_uri": "https://localhost:8080/",
          "height": 342
        },
        "id": "b645e320",
        "outputId": "79ad9bd4-c496-4dc0-c580-27b94264ab91"
      },
      "outputs": [
        {
          "output_type": "execute_result",
          "data": {
            "text/plain": [
              "        id  member_id  loan_amnt  funded_amnt  funded_amnt_inv        term  \\\n",
              "0  1077501    1296599       5000         5000           4975.0   36 months   \n",
              "1  1077430    1314167       2500         2500           2500.0   60 months   \n",
              "2  1077175    1313524       2400         2400           2400.0   36 months   \n",
              "3  1076863    1277178      10000        10000          10000.0   36 months   \n",
              "4  1075358    1311748       3000         3000           3000.0   60 months   \n",
              "\n",
              "  int_rate  installment grade sub_grade  ... num_tl_90g_dpd_24m  \\\n",
              "0   10.65%       162.87     B        B2  ...                NaN   \n",
              "1   15.27%        59.83     C        C4  ...                NaN   \n",
              "2   15.96%        84.33     C        C5  ...                NaN   \n",
              "3   13.49%       339.31     C        C1  ...                NaN   \n",
              "4   12.69%        67.79     B        B5  ...                NaN   \n",
              "\n",
              "  num_tl_op_past_12m pct_tl_nvr_dlq  percent_bc_gt_75 pub_rec_bankruptcies  \\\n",
              "0                NaN            NaN               NaN                  0.0   \n",
              "1                NaN            NaN               NaN                  0.0   \n",
              "2                NaN            NaN               NaN                  0.0   \n",
              "3                NaN            NaN               NaN                  0.0   \n",
              "4                NaN            NaN               NaN                  0.0   \n",
              "\n",
              "  tax_liens tot_hi_cred_lim total_bal_ex_mort total_bc_limit  \\\n",
              "0       0.0             NaN               NaN            NaN   \n",
              "1       0.0             NaN               NaN            NaN   \n",
              "2       0.0             NaN               NaN            NaN   \n",
              "3       0.0             NaN               NaN            NaN   \n",
              "4       0.0             NaN               NaN            NaN   \n",
              "\n",
              "  total_il_high_credit_limit  \n",
              "0                        NaN  \n",
              "1                        NaN  \n",
              "2                        NaN  \n",
              "3                        NaN  \n",
              "4                        NaN  \n",
              "\n",
              "[5 rows x 111 columns]"
            ],
            "text/html": [
              "\n",
              "  <div id=\"df-bb405ac3-c252-4f65-b716-455727ea3813\" class=\"colab-df-container\">\n",
              "    <div>\n",
              "<style scoped>\n",
              "    .dataframe tbody tr th:only-of-type {\n",
              "        vertical-align: middle;\n",
              "    }\n",
              "\n",
              "    .dataframe tbody tr th {\n",
              "        vertical-align: top;\n",
              "    }\n",
              "\n",
              "    .dataframe thead th {\n",
              "        text-align: right;\n",
              "    }\n",
              "</style>\n",
              "<table border=\"1\" class=\"dataframe\">\n",
              "  <thead>\n",
              "    <tr style=\"text-align: right;\">\n",
              "      <th></th>\n",
              "      <th>id</th>\n",
              "      <th>member_id</th>\n",
              "      <th>loan_amnt</th>\n",
              "      <th>funded_amnt</th>\n",
              "      <th>funded_amnt_inv</th>\n",
              "      <th>term</th>\n",
              "      <th>int_rate</th>\n",
              "      <th>installment</th>\n",
              "      <th>grade</th>\n",
              "      <th>sub_grade</th>\n",
              "      <th>...</th>\n",
              "      <th>num_tl_90g_dpd_24m</th>\n",
              "      <th>num_tl_op_past_12m</th>\n",
              "      <th>pct_tl_nvr_dlq</th>\n",
              "      <th>percent_bc_gt_75</th>\n",
              "      <th>pub_rec_bankruptcies</th>\n",
              "      <th>tax_liens</th>\n",
              "      <th>tot_hi_cred_lim</th>\n",
              "      <th>total_bal_ex_mort</th>\n",
              "      <th>total_bc_limit</th>\n",
              "      <th>total_il_high_credit_limit</th>\n",
              "    </tr>\n",
              "  </thead>\n",
              "  <tbody>\n",
              "    <tr>\n",
              "      <th>0</th>\n",
              "      <td>1077501</td>\n",
              "      <td>1296599</td>\n",
              "      <td>5000</td>\n",
              "      <td>5000</td>\n",
              "      <td>4975.0</td>\n",
              "      <td>36 months</td>\n",
              "      <td>10.65%</td>\n",
              "      <td>162.87</td>\n",
              "      <td>B</td>\n",
              "      <td>B2</td>\n",
              "      <td>...</td>\n",
              "      <td>NaN</td>\n",
              "      <td>NaN</td>\n",
              "      <td>NaN</td>\n",
              "      <td>NaN</td>\n",
              "      <td>0.0</td>\n",
              "      <td>0.0</td>\n",
              "      <td>NaN</td>\n",
              "      <td>NaN</td>\n",
              "      <td>NaN</td>\n",
              "      <td>NaN</td>\n",
              "    </tr>\n",
              "    <tr>\n",
              "      <th>1</th>\n",
              "      <td>1077430</td>\n",
              "      <td>1314167</td>\n",
              "      <td>2500</td>\n",
              "      <td>2500</td>\n",
              "      <td>2500.0</td>\n",
              "      <td>60 months</td>\n",
              "      <td>15.27%</td>\n",
              "      <td>59.83</td>\n",
              "      <td>C</td>\n",
              "      <td>C4</td>\n",
              "      <td>...</td>\n",
              "      <td>NaN</td>\n",
              "      <td>NaN</td>\n",
              "      <td>NaN</td>\n",
              "      <td>NaN</td>\n",
              "      <td>0.0</td>\n",
              "      <td>0.0</td>\n",
              "      <td>NaN</td>\n",
              "      <td>NaN</td>\n",
              "      <td>NaN</td>\n",
              "      <td>NaN</td>\n",
              "    </tr>\n",
              "    <tr>\n",
              "      <th>2</th>\n",
              "      <td>1077175</td>\n",
              "      <td>1313524</td>\n",
              "      <td>2400</td>\n",
              "      <td>2400</td>\n",
              "      <td>2400.0</td>\n",
              "      <td>36 months</td>\n",
              "      <td>15.96%</td>\n",
              "      <td>84.33</td>\n",
              "      <td>C</td>\n",
              "      <td>C5</td>\n",
              "      <td>...</td>\n",
              "      <td>NaN</td>\n",
              "      <td>NaN</td>\n",
              "      <td>NaN</td>\n",
              "      <td>NaN</td>\n",
              "      <td>0.0</td>\n",
              "      <td>0.0</td>\n",
              "      <td>NaN</td>\n",
              "      <td>NaN</td>\n",
              "      <td>NaN</td>\n",
              "      <td>NaN</td>\n",
              "    </tr>\n",
              "    <tr>\n",
              "      <th>3</th>\n",
              "      <td>1076863</td>\n",
              "      <td>1277178</td>\n",
              "      <td>10000</td>\n",
              "      <td>10000</td>\n",
              "      <td>10000.0</td>\n",
              "      <td>36 months</td>\n",
              "      <td>13.49%</td>\n",
              "      <td>339.31</td>\n",
              "      <td>C</td>\n",
              "      <td>C1</td>\n",
              "      <td>...</td>\n",
              "      <td>NaN</td>\n",
              "      <td>NaN</td>\n",
              "      <td>NaN</td>\n",
              "      <td>NaN</td>\n",
              "      <td>0.0</td>\n",
              "      <td>0.0</td>\n",
              "      <td>NaN</td>\n",
              "      <td>NaN</td>\n",
              "      <td>NaN</td>\n",
              "      <td>NaN</td>\n",
              "    </tr>\n",
              "    <tr>\n",
              "      <th>4</th>\n",
              "      <td>1075358</td>\n",
              "      <td>1311748</td>\n",
              "      <td>3000</td>\n",
              "      <td>3000</td>\n",
              "      <td>3000.0</td>\n",
              "      <td>60 months</td>\n",
              "      <td>12.69%</td>\n",
              "      <td>67.79</td>\n",
              "      <td>B</td>\n",
              "      <td>B5</td>\n",
              "      <td>...</td>\n",
              "      <td>NaN</td>\n",
              "      <td>NaN</td>\n",
              "      <td>NaN</td>\n",
              "      <td>NaN</td>\n",
              "      <td>0.0</td>\n",
              "      <td>0.0</td>\n",
              "      <td>NaN</td>\n",
              "      <td>NaN</td>\n",
              "      <td>NaN</td>\n",
              "      <td>NaN</td>\n",
              "    </tr>\n",
              "  </tbody>\n",
              "</table>\n",
              "<p>5 rows × 111 columns</p>\n",
              "</div>\n",
              "    <div class=\"colab-df-buttons\">\n",
              "\n",
              "  <div class=\"colab-df-container\">\n",
              "    <button class=\"colab-df-convert\" onclick=\"convertToInteractive('df-bb405ac3-c252-4f65-b716-455727ea3813')\"\n",
              "            title=\"Convert this dataframe to an interactive table.\"\n",
              "            style=\"display:none;\">\n",
              "\n",
              "  <svg xmlns=\"http://www.w3.org/2000/svg\" height=\"24px\" viewBox=\"0 -960 960 960\">\n",
              "    <path d=\"M120-120v-720h720v720H120Zm60-500h600v-160H180v160Zm220 220h160v-160H400v160Zm0 220h160v-160H400v160ZM180-400h160v-160H180v160Zm440 0h160v-160H620v160ZM180-180h160v-160H180v160Zm440 0h160v-160H620v160Z\"/>\n",
              "  </svg>\n",
              "    </button>\n",
              "\n",
              "  <style>\n",
              "    .colab-df-container {\n",
              "      display:flex;\n",
              "      gap: 12px;\n",
              "    }\n",
              "\n",
              "    .colab-df-convert {\n",
              "      background-color: #E8F0FE;\n",
              "      border: none;\n",
              "      border-radius: 50%;\n",
              "      cursor: pointer;\n",
              "      display: none;\n",
              "      fill: #1967D2;\n",
              "      height: 32px;\n",
              "      padding: 0 0 0 0;\n",
              "      width: 32px;\n",
              "    }\n",
              "\n",
              "    .colab-df-convert:hover {\n",
              "      background-color: #E2EBFA;\n",
              "      box-shadow: 0px 1px 2px rgba(60, 64, 67, 0.3), 0px 1px 3px 1px rgba(60, 64, 67, 0.15);\n",
              "      fill: #174EA6;\n",
              "    }\n",
              "\n",
              "    .colab-df-buttons div {\n",
              "      margin-bottom: 4px;\n",
              "    }\n",
              "\n",
              "    [theme=dark] .colab-df-convert {\n",
              "      background-color: #3B4455;\n",
              "      fill: #D2E3FC;\n",
              "    }\n",
              "\n",
              "    [theme=dark] .colab-df-convert:hover {\n",
              "      background-color: #434B5C;\n",
              "      box-shadow: 0px 1px 3px 1px rgba(0, 0, 0, 0.15);\n",
              "      filter: drop-shadow(0px 1px 2px rgba(0, 0, 0, 0.3));\n",
              "      fill: #FFFFFF;\n",
              "    }\n",
              "  </style>\n",
              "\n",
              "    <script>\n",
              "      const buttonEl =\n",
              "        document.querySelector('#df-bb405ac3-c252-4f65-b716-455727ea3813 button.colab-df-convert');\n",
              "      buttonEl.style.display =\n",
              "        google.colab.kernel.accessAllowed ? 'block' : 'none';\n",
              "\n",
              "      async function convertToInteractive(key) {\n",
              "        const element = document.querySelector('#df-bb405ac3-c252-4f65-b716-455727ea3813');\n",
              "        const dataTable =\n",
              "          await google.colab.kernel.invokeFunction('convertToInteractive',\n",
              "                                                    [key], {});\n",
              "        if (!dataTable) return;\n",
              "\n",
              "        const docLinkHtml = 'Like what you see? Visit the ' +\n",
              "          '<a target=\"_blank\" href=https://colab.research.google.com/notebooks/data_table.ipynb>data table notebook</a>'\n",
              "          + ' to learn more about interactive tables.';\n",
              "        element.innerHTML = '';\n",
              "        dataTable['output_type'] = 'display_data';\n",
              "        await google.colab.output.renderOutput(dataTable, element);\n",
              "        const docLink = document.createElement('div');\n",
              "        docLink.innerHTML = docLinkHtml;\n",
              "        element.appendChild(docLink);\n",
              "      }\n",
              "    </script>\n",
              "  </div>\n",
              "\n",
              "\n",
              "<div id=\"df-18eb7db7-8456-479e-8c45-0b3718225ac2\">\n",
              "  <button class=\"colab-df-quickchart\" onclick=\"quickchart('df-18eb7db7-8456-479e-8c45-0b3718225ac2')\"\n",
              "            title=\"Suggest charts\"\n",
              "            style=\"display:none;\">\n",
              "\n",
              "<svg xmlns=\"http://www.w3.org/2000/svg\" height=\"24px\"viewBox=\"0 0 24 24\"\n",
              "     width=\"24px\">\n",
              "    <g>\n",
              "        <path d=\"M19 3H5c-1.1 0-2 .9-2 2v14c0 1.1.9 2 2 2h14c1.1 0 2-.9 2-2V5c0-1.1-.9-2-2-2zM9 17H7v-7h2v7zm4 0h-2V7h2v10zm4 0h-2v-4h2v4z\"/>\n",
              "    </g>\n",
              "</svg>\n",
              "  </button>\n",
              "\n",
              "<style>\n",
              "  .colab-df-quickchart {\n",
              "      --bg-color: #E8F0FE;\n",
              "      --fill-color: #1967D2;\n",
              "      --hover-bg-color: #E2EBFA;\n",
              "      --hover-fill-color: #174EA6;\n",
              "      --disabled-fill-color: #AAA;\n",
              "      --disabled-bg-color: #DDD;\n",
              "  }\n",
              "\n",
              "  [theme=dark] .colab-df-quickchart {\n",
              "      --bg-color: #3B4455;\n",
              "      --fill-color: #D2E3FC;\n",
              "      --hover-bg-color: #434B5C;\n",
              "      --hover-fill-color: #FFFFFF;\n",
              "      --disabled-bg-color: #3B4455;\n",
              "      --disabled-fill-color: #666;\n",
              "  }\n",
              "\n",
              "  .colab-df-quickchart {\n",
              "    background-color: var(--bg-color);\n",
              "    border: none;\n",
              "    border-radius: 50%;\n",
              "    cursor: pointer;\n",
              "    display: none;\n",
              "    fill: var(--fill-color);\n",
              "    height: 32px;\n",
              "    padding: 0;\n",
              "    width: 32px;\n",
              "  }\n",
              "\n",
              "  .colab-df-quickchart:hover {\n",
              "    background-color: var(--hover-bg-color);\n",
              "    box-shadow: 0 1px 2px rgba(60, 64, 67, 0.3), 0 1px 3px 1px rgba(60, 64, 67, 0.15);\n",
              "    fill: var(--button-hover-fill-color);\n",
              "  }\n",
              "\n",
              "  .colab-df-quickchart-complete:disabled,\n",
              "  .colab-df-quickchart-complete:disabled:hover {\n",
              "    background-color: var(--disabled-bg-color);\n",
              "    fill: var(--disabled-fill-color);\n",
              "    box-shadow: none;\n",
              "  }\n",
              "\n",
              "  .colab-df-spinner {\n",
              "    border: 2px solid var(--fill-color);\n",
              "    border-color: transparent;\n",
              "    border-bottom-color: var(--fill-color);\n",
              "    animation:\n",
              "      spin 1s steps(1) infinite;\n",
              "  }\n",
              "\n",
              "  @keyframes spin {\n",
              "    0% {\n",
              "      border-color: transparent;\n",
              "      border-bottom-color: var(--fill-color);\n",
              "      border-left-color: var(--fill-color);\n",
              "    }\n",
              "    20% {\n",
              "      border-color: transparent;\n",
              "      border-left-color: var(--fill-color);\n",
              "      border-top-color: var(--fill-color);\n",
              "    }\n",
              "    30% {\n",
              "      border-color: transparent;\n",
              "      border-left-color: var(--fill-color);\n",
              "      border-top-color: var(--fill-color);\n",
              "      border-right-color: var(--fill-color);\n",
              "    }\n",
              "    40% {\n",
              "      border-color: transparent;\n",
              "      border-right-color: var(--fill-color);\n",
              "      border-top-color: var(--fill-color);\n",
              "    }\n",
              "    60% {\n",
              "      border-color: transparent;\n",
              "      border-right-color: var(--fill-color);\n",
              "    }\n",
              "    80% {\n",
              "      border-color: transparent;\n",
              "      border-right-color: var(--fill-color);\n",
              "      border-bottom-color: var(--fill-color);\n",
              "    }\n",
              "    90% {\n",
              "      border-color: transparent;\n",
              "      border-bottom-color: var(--fill-color);\n",
              "    }\n",
              "  }\n",
              "</style>\n",
              "\n",
              "  <script>\n",
              "    async function quickchart(key) {\n",
              "      const quickchartButtonEl =\n",
              "        document.querySelector('#' + key + ' button');\n",
              "      quickchartButtonEl.disabled = true;  // To prevent multiple clicks.\n",
              "      quickchartButtonEl.classList.add('colab-df-spinner');\n",
              "      try {\n",
              "        const charts = await google.colab.kernel.invokeFunction(\n",
              "            'suggestCharts', [key], {});\n",
              "      } catch (error) {\n",
              "        console.error('Error during call to suggestCharts:', error);\n",
              "      }\n",
              "      quickchartButtonEl.classList.remove('colab-df-spinner');\n",
              "      quickchartButtonEl.classList.add('colab-df-quickchart-complete');\n",
              "    }\n",
              "    (() => {\n",
              "      let quickchartButtonEl =\n",
              "        document.querySelector('#df-18eb7db7-8456-479e-8c45-0b3718225ac2 button');\n",
              "      quickchartButtonEl.style.display =\n",
              "        google.colab.kernel.accessAllowed ? 'block' : 'none';\n",
              "    })();\n",
              "  </script>\n",
              "</div>\n",
              "    </div>\n",
              "  </div>\n"
            ]
          },
          "metadata": {},
          "execution_count": 358
        }
      ],
      "source": [
        "#display the top 5 row in the given dataSet\n",
        "loan.head()"
      ]
    },
    {
      "cell_type": "code",
      "execution_count": null,
      "id": "5130efa1",
      "metadata": {
        "scrolled": true,
        "colab": {
          "base_uri": "https://localhost:8080/",
          "height": 342
        },
        "id": "5130efa1",
        "outputId": "79c354e5-857f-49d7-c22d-10ead034f0f6"
      },
      "outputs": [
        {
          "output_type": "execute_result",
          "data": {
            "text/plain": [
              "          id  member_id  loan_amnt  funded_amnt  funded_amnt_inv        term  \\\n",
              "39712  92187      92174       2500         2500           1075.0   36 months   \n",
              "39713  90665      90607       8500         8500            875.0   36 months   \n",
              "39714  90395      90390       5000         5000           1325.0   36 months   \n",
              "39715  90376      89243       5000         5000            650.0   36 months   \n",
              "39716  87023      86999       7500         7500            800.0   36 months   \n",
              "\n",
              "      int_rate  installment grade sub_grade  ... num_tl_90g_dpd_24m  \\\n",
              "39712    8.07%        78.42     A        A4  ...                NaN   \n",
              "39713   10.28%       275.38     C        C1  ...                NaN   \n",
              "39714    8.07%       156.84     A        A4  ...                NaN   \n",
              "39715    7.43%       155.38     A        A2  ...                NaN   \n",
              "39716   13.75%       255.43     E        E2  ...                NaN   \n",
              "\n",
              "      num_tl_op_past_12m pct_tl_nvr_dlq  percent_bc_gt_75  \\\n",
              "39712                NaN            NaN               NaN   \n",
              "39713                NaN            NaN               NaN   \n",
              "39714                NaN            NaN               NaN   \n",
              "39715                NaN            NaN               NaN   \n",
              "39716                NaN            NaN               NaN   \n",
              "\n",
              "      pub_rec_bankruptcies tax_liens tot_hi_cred_lim total_bal_ex_mort  \\\n",
              "39712                  NaN       NaN             NaN               NaN   \n",
              "39713                  NaN       NaN             NaN               NaN   \n",
              "39714                  NaN       NaN             NaN               NaN   \n",
              "39715                  NaN       NaN             NaN               NaN   \n",
              "39716                  NaN       NaN             NaN               NaN   \n",
              "\n",
              "      total_bc_limit total_il_high_credit_limit  \n",
              "39712            NaN                        NaN  \n",
              "39713            NaN                        NaN  \n",
              "39714            NaN                        NaN  \n",
              "39715            NaN                        NaN  \n",
              "39716            NaN                        NaN  \n",
              "\n",
              "[5 rows x 111 columns]"
            ],
            "text/html": [
              "\n",
              "  <div id=\"df-19fa8c56-edf3-4e9c-ad35-e2f44ab8e26c\" class=\"colab-df-container\">\n",
              "    <div>\n",
              "<style scoped>\n",
              "    .dataframe tbody tr th:only-of-type {\n",
              "        vertical-align: middle;\n",
              "    }\n",
              "\n",
              "    .dataframe tbody tr th {\n",
              "        vertical-align: top;\n",
              "    }\n",
              "\n",
              "    .dataframe thead th {\n",
              "        text-align: right;\n",
              "    }\n",
              "</style>\n",
              "<table border=\"1\" class=\"dataframe\">\n",
              "  <thead>\n",
              "    <tr style=\"text-align: right;\">\n",
              "      <th></th>\n",
              "      <th>id</th>\n",
              "      <th>member_id</th>\n",
              "      <th>loan_amnt</th>\n",
              "      <th>funded_amnt</th>\n",
              "      <th>funded_amnt_inv</th>\n",
              "      <th>term</th>\n",
              "      <th>int_rate</th>\n",
              "      <th>installment</th>\n",
              "      <th>grade</th>\n",
              "      <th>sub_grade</th>\n",
              "      <th>...</th>\n",
              "      <th>num_tl_90g_dpd_24m</th>\n",
              "      <th>num_tl_op_past_12m</th>\n",
              "      <th>pct_tl_nvr_dlq</th>\n",
              "      <th>percent_bc_gt_75</th>\n",
              "      <th>pub_rec_bankruptcies</th>\n",
              "      <th>tax_liens</th>\n",
              "      <th>tot_hi_cred_lim</th>\n",
              "      <th>total_bal_ex_mort</th>\n",
              "      <th>total_bc_limit</th>\n",
              "      <th>total_il_high_credit_limit</th>\n",
              "    </tr>\n",
              "  </thead>\n",
              "  <tbody>\n",
              "    <tr>\n",
              "      <th>39712</th>\n",
              "      <td>92187</td>\n",
              "      <td>92174</td>\n",
              "      <td>2500</td>\n",
              "      <td>2500</td>\n",
              "      <td>1075.0</td>\n",
              "      <td>36 months</td>\n",
              "      <td>8.07%</td>\n",
              "      <td>78.42</td>\n",
              "      <td>A</td>\n",
              "      <td>A4</td>\n",
              "      <td>...</td>\n",
              "      <td>NaN</td>\n",
              "      <td>NaN</td>\n",
              "      <td>NaN</td>\n",
              "      <td>NaN</td>\n",
              "      <td>NaN</td>\n",
              "      <td>NaN</td>\n",
              "      <td>NaN</td>\n",
              "      <td>NaN</td>\n",
              "      <td>NaN</td>\n",
              "      <td>NaN</td>\n",
              "    </tr>\n",
              "    <tr>\n",
              "      <th>39713</th>\n",
              "      <td>90665</td>\n",
              "      <td>90607</td>\n",
              "      <td>8500</td>\n",
              "      <td>8500</td>\n",
              "      <td>875.0</td>\n",
              "      <td>36 months</td>\n",
              "      <td>10.28%</td>\n",
              "      <td>275.38</td>\n",
              "      <td>C</td>\n",
              "      <td>C1</td>\n",
              "      <td>...</td>\n",
              "      <td>NaN</td>\n",
              "      <td>NaN</td>\n",
              "      <td>NaN</td>\n",
              "      <td>NaN</td>\n",
              "      <td>NaN</td>\n",
              "      <td>NaN</td>\n",
              "      <td>NaN</td>\n",
              "      <td>NaN</td>\n",
              "      <td>NaN</td>\n",
              "      <td>NaN</td>\n",
              "    </tr>\n",
              "    <tr>\n",
              "      <th>39714</th>\n",
              "      <td>90395</td>\n",
              "      <td>90390</td>\n",
              "      <td>5000</td>\n",
              "      <td>5000</td>\n",
              "      <td>1325.0</td>\n",
              "      <td>36 months</td>\n",
              "      <td>8.07%</td>\n",
              "      <td>156.84</td>\n",
              "      <td>A</td>\n",
              "      <td>A4</td>\n",
              "      <td>...</td>\n",
              "      <td>NaN</td>\n",
              "      <td>NaN</td>\n",
              "      <td>NaN</td>\n",
              "      <td>NaN</td>\n",
              "      <td>NaN</td>\n",
              "      <td>NaN</td>\n",
              "      <td>NaN</td>\n",
              "      <td>NaN</td>\n",
              "      <td>NaN</td>\n",
              "      <td>NaN</td>\n",
              "    </tr>\n",
              "    <tr>\n",
              "      <th>39715</th>\n",
              "      <td>90376</td>\n",
              "      <td>89243</td>\n",
              "      <td>5000</td>\n",
              "      <td>5000</td>\n",
              "      <td>650.0</td>\n",
              "      <td>36 months</td>\n",
              "      <td>7.43%</td>\n",
              "      <td>155.38</td>\n",
              "      <td>A</td>\n",
              "      <td>A2</td>\n",
              "      <td>...</td>\n",
              "      <td>NaN</td>\n",
              "      <td>NaN</td>\n",
              "      <td>NaN</td>\n",
              "      <td>NaN</td>\n",
              "      <td>NaN</td>\n",
              "      <td>NaN</td>\n",
              "      <td>NaN</td>\n",
              "      <td>NaN</td>\n",
              "      <td>NaN</td>\n",
              "      <td>NaN</td>\n",
              "    </tr>\n",
              "    <tr>\n",
              "      <th>39716</th>\n",
              "      <td>87023</td>\n",
              "      <td>86999</td>\n",
              "      <td>7500</td>\n",
              "      <td>7500</td>\n",
              "      <td>800.0</td>\n",
              "      <td>36 months</td>\n",
              "      <td>13.75%</td>\n",
              "      <td>255.43</td>\n",
              "      <td>E</td>\n",
              "      <td>E2</td>\n",
              "      <td>...</td>\n",
              "      <td>NaN</td>\n",
              "      <td>NaN</td>\n",
              "      <td>NaN</td>\n",
              "      <td>NaN</td>\n",
              "      <td>NaN</td>\n",
              "      <td>NaN</td>\n",
              "      <td>NaN</td>\n",
              "      <td>NaN</td>\n",
              "      <td>NaN</td>\n",
              "      <td>NaN</td>\n",
              "    </tr>\n",
              "  </tbody>\n",
              "</table>\n",
              "<p>5 rows × 111 columns</p>\n",
              "</div>\n",
              "    <div class=\"colab-df-buttons\">\n",
              "\n",
              "  <div class=\"colab-df-container\">\n",
              "    <button class=\"colab-df-convert\" onclick=\"convertToInteractive('df-19fa8c56-edf3-4e9c-ad35-e2f44ab8e26c')\"\n",
              "            title=\"Convert this dataframe to an interactive table.\"\n",
              "            style=\"display:none;\">\n",
              "\n",
              "  <svg xmlns=\"http://www.w3.org/2000/svg\" height=\"24px\" viewBox=\"0 -960 960 960\">\n",
              "    <path d=\"M120-120v-720h720v720H120Zm60-500h600v-160H180v160Zm220 220h160v-160H400v160Zm0 220h160v-160H400v160ZM180-400h160v-160H180v160Zm440 0h160v-160H620v160ZM180-180h160v-160H180v160Zm440 0h160v-160H620v160Z\"/>\n",
              "  </svg>\n",
              "    </button>\n",
              "\n",
              "  <style>\n",
              "    .colab-df-container {\n",
              "      display:flex;\n",
              "      gap: 12px;\n",
              "    }\n",
              "\n",
              "    .colab-df-convert {\n",
              "      background-color: #E8F0FE;\n",
              "      border: none;\n",
              "      border-radius: 50%;\n",
              "      cursor: pointer;\n",
              "      display: none;\n",
              "      fill: #1967D2;\n",
              "      height: 32px;\n",
              "      padding: 0 0 0 0;\n",
              "      width: 32px;\n",
              "    }\n",
              "\n",
              "    .colab-df-convert:hover {\n",
              "      background-color: #E2EBFA;\n",
              "      box-shadow: 0px 1px 2px rgba(60, 64, 67, 0.3), 0px 1px 3px 1px rgba(60, 64, 67, 0.15);\n",
              "      fill: #174EA6;\n",
              "    }\n",
              "\n",
              "    .colab-df-buttons div {\n",
              "      margin-bottom: 4px;\n",
              "    }\n",
              "\n",
              "    [theme=dark] .colab-df-convert {\n",
              "      background-color: #3B4455;\n",
              "      fill: #D2E3FC;\n",
              "    }\n",
              "\n",
              "    [theme=dark] .colab-df-convert:hover {\n",
              "      background-color: #434B5C;\n",
              "      box-shadow: 0px 1px 3px 1px rgba(0, 0, 0, 0.15);\n",
              "      filter: drop-shadow(0px 1px 2px rgba(0, 0, 0, 0.3));\n",
              "      fill: #FFFFFF;\n",
              "    }\n",
              "  </style>\n",
              "\n",
              "    <script>\n",
              "      const buttonEl =\n",
              "        document.querySelector('#df-19fa8c56-edf3-4e9c-ad35-e2f44ab8e26c button.colab-df-convert');\n",
              "      buttonEl.style.display =\n",
              "        google.colab.kernel.accessAllowed ? 'block' : 'none';\n",
              "\n",
              "      async function convertToInteractive(key) {\n",
              "        const element = document.querySelector('#df-19fa8c56-edf3-4e9c-ad35-e2f44ab8e26c');\n",
              "        const dataTable =\n",
              "          await google.colab.kernel.invokeFunction('convertToInteractive',\n",
              "                                                    [key], {});\n",
              "        if (!dataTable) return;\n",
              "\n",
              "        const docLinkHtml = 'Like what you see? Visit the ' +\n",
              "          '<a target=\"_blank\" href=https://colab.research.google.com/notebooks/data_table.ipynb>data table notebook</a>'\n",
              "          + ' to learn more about interactive tables.';\n",
              "        element.innerHTML = '';\n",
              "        dataTable['output_type'] = 'display_data';\n",
              "        await google.colab.output.renderOutput(dataTable, element);\n",
              "        const docLink = document.createElement('div');\n",
              "        docLink.innerHTML = docLinkHtml;\n",
              "        element.appendChild(docLink);\n",
              "      }\n",
              "    </script>\n",
              "  </div>\n",
              "\n",
              "\n",
              "<div id=\"df-4b6631f4-0a2e-4a26-b667-ad4ff8d991f8\">\n",
              "  <button class=\"colab-df-quickchart\" onclick=\"quickchart('df-4b6631f4-0a2e-4a26-b667-ad4ff8d991f8')\"\n",
              "            title=\"Suggest charts\"\n",
              "            style=\"display:none;\">\n",
              "\n",
              "<svg xmlns=\"http://www.w3.org/2000/svg\" height=\"24px\"viewBox=\"0 0 24 24\"\n",
              "     width=\"24px\">\n",
              "    <g>\n",
              "        <path d=\"M19 3H5c-1.1 0-2 .9-2 2v14c0 1.1.9 2 2 2h14c1.1 0 2-.9 2-2V5c0-1.1-.9-2-2-2zM9 17H7v-7h2v7zm4 0h-2V7h2v10zm4 0h-2v-4h2v4z\"/>\n",
              "    </g>\n",
              "</svg>\n",
              "  </button>\n",
              "\n",
              "<style>\n",
              "  .colab-df-quickchart {\n",
              "      --bg-color: #E8F0FE;\n",
              "      --fill-color: #1967D2;\n",
              "      --hover-bg-color: #E2EBFA;\n",
              "      --hover-fill-color: #174EA6;\n",
              "      --disabled-fill-color: #AAA;\n",
              "      --disabled-bg-color: #DDD;\n",
              "  }\n",
              "\n",
              "  [theme=dark] .colab-df-quickchart {\n",
              "      --bg-color: #3B4455;\n",
              "      --fill-color: #D2E3FC;\n",
              "      --hover-bg-color: #434B5C;\n",
              "      --hover-fill-color: #FFFFFF;\n",
              "      --disabled-bg-color: #3B4455;\n",
              "      --disabled-fill-color: #666;\n",
              "  }\n",
              "\n",
              "  .colab-df-quickchart {\n",
              "    background-color: var(--bg-color);\n",
              "    border: none;\n",
              "    border-radius: 50%;\n",
              "    cursor: pointer;\n",
              "    display: none;\n",
              "    fill: var(--fill-color);\n",
              "    height: 32px;\n",
              "    padding: 0;\n",
              "    width: 32px;\n",
              "  }\n",
              "\n",
              "  .colab-df-quickchart:hover {\n",
              "    background-color: var(--hover-bg-color);\n",
              "    box-shadow: 0 1px 2px rgba(60, 64, 67, 0.3), 0 1px 3px 1px rgba(60, 64, 67, 0.15);\n",
              "    fill: var(--button-hover-fill-color);\n",
              "  }\n",
              "\n",
              "  .colab-df-quickchart-complete:disabled,\n",
              "  .colab-df-quickchart-complete:disabled:hover {\n",
              "    background-color: var(--disabled-bg-color);\n",
              "    fill: var(--disabled-fill-color);\n",
              "    box-shadow: none;\n",
              "  }\n",
              "\n",
              "  .colab-df-spinner {\n",
              "    border: 2px solid var(--fill-color);\n",
              "    border-color: transparent;\n",
              "    border-bottom-color: var(--fill-color);\n",
              "    animation:\n",
              "      spin 1s steps(1) infinite;\n",
              "  }\n",
              "\n",
              "  @keyframes spin {\n",
              "    0% {\n",
              "      border-color: transparent;\n",
              "      border-bottom-color: var(--fill-color);\n",
              "      border-left-color: var(--fill-color);\n",
              "    }\n",
              "    20% {\n",
              "      border-color: transparent;\n",
              "      border-left-color: var(--fill-color);\n",
              "      border-top-color: var(--fill-color);\n",
              "    }\n",
              "    30% {\n",
              "      border-color: transparent;\n",
              "      border-left-color: var(--fill-color);\n",
              "      border-top-color: var(--fill-color);\n",
              "      border-right-color: var(--fill-color);\n",
              "    }\n",
              "    40% {\n",
              "      border-color: transparent;\n",
              "      border-right-color: var(--fill-color);\n",
              "      border-top-color: var(--fill-color);\n",
              "    }\n",
              "    60% {\n",
              "      border-color: transparent;\n",
              "      border-right-color: var(--fill-color);\n",
              "    }\n",
              "    80% {\n",
              "      border-color: transparent;\n",
              "      border-right-color: var(--fill-color);\n",
              "      border-bottom-color: var(--fill-color);\n",
              "    }\n",
              "    90% {\n",
              "      border-color: transparent;\n",
              "      border-bottom-color: var(--fill-color);\n",
              "    }\n",
              "  }\n",
              "</style>\n",
              "\n",
              "  <script>\n",
              "    async function quickchart(key) {\n",
              "      const quickchartButtonEl =\n",
              "        document.querySelector('#' + key + ' button');\n",
              "      quickchartButtonEl.disabled = true;  // To prevent multiple clicks.\n",
              "      quickchartButtonEl.classList.add('colab-df-spinner');\n",
              "      try {\n",
              "        const charts = await google.colab.kernel.invokeFunction(\n",
              "            'suggestCharts', [key], {});\n",
              "      } catch (error) {\n",
              "        console.error('Error during call to suggestCharts:', error);\n",
              "      }\n",
              "      quickchartButtonEl.classList.remove('colab-df-spinner');\n",
              "      quickchartButtonEl.classList.add('colab-df-quickchart-complete');\n",
              "    }\n",
              "    (() => {\n",
              "      let quickchartButtonEl =\n",
              "        document.querySelector('#df-4b6631f4-0a2e-4a26-b667-ad4ff8d991f8 button');\n",
              "      quickchartButtonEl.style.display =\n",
              "        google.colab.kernel.accessAllowed ? 'block' : 'none';\n",
              "    })();\n",
              "  </script>\n",
              "</div>\n",
              "    </div>\n",
              "  </div>\n"
            ]
          },
          "metadata": {},
          "execution_count": 359
        }
      ],
      "source": [
        "#display the tail 5 row in the dataSet\n",
        "loan.tail()"
      ]
    },
    {
      "cell_type": "markdown",
      "id": "4af719fa",
      "metadata": {
        "id": "4af719fa"
      },
      "source": [
        "# DATA CLEANING"
      ]
    },
    {
      "cell_type": "code",
      "execution_count": null,
      "id": "54e50f80",
      "metadata": {
        "id": "54e50f80"
      },
      "outputs": [],
      "source": [
        "#To check the details of the data values and their data type of each of the columns\n",
        "\n",
        "# Display information about the DataFrame including data types and null counts\n",
        "null_counts = {\n",
        "    'index':loan.columns,\n",
        "    'values':loan.isnull().sum()\n",
        "}\n",
        "df=pd.DataFrame(null_counts)"
      ]
    },
    {
      "cell_type": "code",
      "source": [
        "'''\n",
        "Dropping all columns which have all null values\n",
        "'''\n",
        "loan=loan.drop(df.loc[df['values']==39717]['index'],axis=1)\n",
        "loan.shape"
      ],
      "metadata": {
        "colab": {
          "base_uri": "https://localhost:8080/"
        },
        "id": "NfM26QLqjlC_",
        "outputId": "52fde98d-3489-4593-e12b-5ec4f024f662"
      },
      "id": "NfM26QLqjlC_",
      "execution_count": null,
      "outputs": [
        {
          "output_type": "execute_result",
          "data": {
            "text/plain": [
              "(39717, 57)"
            ]
          },
          "metadata": {},
          "execution_count": 361
        }
      ]
    },
    {
      "cell_type": "code",
      "source": [
        "type(loan)"
      ],
      "metadata": {
        "colab": {
          "base_uri": "https://localhost:8080/"
        },
        "id": "fSeQl2Ium0h8",
        "outputId": "8deb73d7-fb53-41eb-9f63-86d96330ea07"
      },
      "id": "fSeQl2Ium0h8",
      "execution_count": null,
      "outputs": [
        {
          "output_type": "execute_result",
          "data": {
            "text/plain": [
              "pandas.core.frame.DataFrame"
            ]
          },
          "metadata": {},
          "execution_count": 362
        }
      ]
    },
    {
      "cell_type": "code",
      "source": [
        "loan.columns"
      ],
      "metadata": {
        "colab": {
          "base_uri": "https://localhost:8080/"
        },
        "id": "BTNcqyubm3DV",
        "outputId": "0e61fe0c-c1fa-421b-df5a-a06fad63f9dd"
      },
      "id": "BTNcqyubm3DV",
      "execution_count": null,
      "outputs": [
        {
          "output_type": "execute_result",
          "data": {
            "text/plain": [
              "Index(['id', 'member_id', 'loan_amnt', 'funded_amnt', 'funded_amnt_inv',\n",
              "       'term', 'int_rate', 'installment', 'grade', 'sub_grade', 'emp_title',\n",
              "       'emp_length', 'home_ownership', 'annual_inc', 'verification_status',\n",
              "       'issue_d', 'loan_status', 'pymnt_plan', 'url', 'desc', 'purpose',\n",
              "       'title', 'zip_code', 'addr_state', 'dti', 'delinq_2yrs',\n",
              "       'earliest_cr_line', 'inq_last_6mths', 'mths_since_last_delinq',\n",
              "       'mths_since_last_record', 'open_acc', 'pub_rec', 'revol_bal',\n",
              "       'revol_util', 'total_acc', 'initial_list_status', 'out_prncp',\n",
              "       'out_prncp_inv', 'total_pymnt', 'total_pymnt_inv', 'total_rec_prncp',\n",
              "       'total_rec_int', 'total_rec_late_fee', 'recoveries',\n",
              "       'collection_recovery_fee', 'last_pymnt_d', 'last_pymnt_amnt',\n",
              "       'next_pymnt_d', 'last_credit_pull_d', 'collections_12_mths_ex_med',\n",
              "       'policy_code', 'application_type', 'acc_now_delinq',\n",
              "       'chargeoff_within_12_mths', 'delinq_amnt', 'pub_rec_bankruptcies',\n",
              "       'tax_liens'],\n",
              "      dtype='object')"
            ]
          },
          "metadata": {},
          "execution_count": 363
        }
      ]
    },
    {
      "cell_type": "code",
      "source": [
        "#dropping id and memeber id columns as they wont be useful in model building\n",
        "loan=loan.drop(['id','member_id'],axis=1)"
      ],
      "metadata": {
        "id": "gKJQYxFcmRUo"
      },
      "id": "gKJQYxFcmRUo",
      "execution_count": null,
      "outputs": []
    },
    {
      "cell_type": "code",
      "source": [
        "loan.info()"
      ],
      "metadata": {
        "colab": {
          "base_uri": "https://localhost:8080/"
        },
        "id": "W_AP3lqInpqh",
        "outputId": "0d96e5ad-bfce-402d-c590-d63c4c3ebe8e"
      },
      "id": "W_AP3lqInpqh",
      "execution_count": null,
      "outputs": [
        {
          "output_type": "stream",
          "name": "stdout",
          "text": [
            "<class 'pandas.core.frame.DataFrame'>\n",
            "RangeIndex: 39717 entries, 0 to 39716\n",
            "Data columns (total 55 columns):\n",
            " #   Column                      Non-Null Count  Dtype  \n",
            "---  ------                      --------------  -----  \n",
            " 0   loan_amnt                   39717 non-null  int64  \n",
            " 1   funded_amnt                 39717 non-null  int64  \n",
            " 2   funded_amnt_inv             39717 non-null  float64\n",
            " 3   term                        39717 non-null  object \n",
            " 4   int_rate                    39717 non-null  object \n",
            " 5   installment                 39717 non-null  float64\n",
            " 6   grade                       39717 non-null  object \n",
            " 7   sub_grade                   39717 non-null  object \n",
            " 8   emp_title                   37258 non-null  object \n",
            " 9   emp_length                  38642 non-null  object \n",
            " 10  home_ownership              39717 non-null  object \n",
            " 11  annual_inc                  39717 non-null  float64\n",
            " 12  verification_status         39717 non-null  object \n",
            " 13  issue_d                     39717 non-null  object \n",
            " 14  loan_status                 39717 non-null  object \n",
            " 15  pymnt_plan                  39717 non-null  object \n",
            " 16  url                         39717 non-null  object \n",
            " 17  desc                        26777 non-null  object \n",
            " 18  purpose                     39717 non-null  object \n",
            " 19  title                       39706 non-null  object \n",
            " 20  zip_code                    39717 non-null  object \n",
            " 21  addr_state                  39717 non-null  object \n",
            " 22  dti                         39717 non-null  float64\n",
            " 23  delinq_2yrs                 39717 non-null  int64  \n",
            " 24  earliest_cr_line            39717 non-null  object \n",
            " 25  inq_last_6mths              39717 non-null  int64  \n",
            " 26  mths_since_last_delinq      14035 non-null  float64\n",
            " 27  mths_since_last_record      2786 non-null   float64\n",
            " 28  open_acc                    39717 non-null  int64  \n",
            " 29  pub_rec                     39717 non-null  int64  \n",
            " 30  revol_bal                   39717 non-null  int64  \n",
            " 31  revol_util                  39667 non-null  object \n",
            " 32  total_acc                   39717 non-null  int64  \n",
            " 33  initial_list_status         39717 non-null  object \n",
            " 34  out_prncp                   39717 non-null  float64\n",
            " 35  out_prncp_inv               39717 non-null  float64\n",
            " 36  total_pymnt                 39717 non-null  float64\n",
            " 37  total_pymnt_inv             39717 non-null  float64\n",
            " 38  total_rec_prncp             39717 non-null  float64\n",
            " 39  total_rec_int               39717 non-null  float64\n",
            " 40  total_rec_late_fee          39717 non-null  float64\n",
            " 41  recoveries                  39717 non-null  float64\n",
            " 42  collection_recovery_fee     39717 non-null  float64\n",
            " 43  last_pymnt_d                39646 non-null  object \n",
            " 44  last_pymnt_amnt             39717 non-null  float64\n",
            " 45  next_pymnt_d                1140 non-null   object \n",
            " 46  last_credit_pull_d          39715 non-null  object \n",
            " 47  collections_12_mths_ex_med  39661 non-null  float64\n",
            " 48  policy_code                 39717 non-null  int64  \n",
            " 49  application_type            39717 non-null  object \n",
            " 50  acc_now_delinq              39717 non-null  int64  \n",
            " 51  chargeoff_within_12_mths    39661 non-null  float64\n",
            " 52  delinq_amnt                 39717 non-null  int64  \n",
            " 53  pub_rec_bankruptcies        39020 non-null  float64\n",
            " 54  tax_liens                   39678 non-null  float64\n",
            "dtypes: float64(20), int64(11), object(24)\n",
            "memory usage: 16.7+ MB\n"
          ]
        }
      ]
    },
    {
      "cell_type": "code",
      "source": [
        "loan['int_rate']"
      ],
      "metadata": {
        "colab": {
          "base_uri": "https://localhost:8080/"
        },
        "id": "kSjJ6f4Un780",
        "outputId": "ef1e568d-2c5a-473e-9457-7de99f6108df"
      },
      "id": "kSjJ6f4Un780",
      "execution_count": null,
      "outputs": [
        {
          "output_type": "execute_result",
          "data": {
            "text/plain": [
              "0        10.65%\n",
              "1        15.27%\n",
              "2        15.96%\n",
              "3        13.49%\n",
              "4        12.69%\n",
              "          ...  \n",
              "39712     8.07%\n",
              "39713    10.28%\n",
              "39714     8.07%\n",
              "39715     7.43%\n",
              "39716    13.75%\n",
              "Name: int_rate, Length: 39717, dtype: object"
            ]
          },
          "metadata": {},
          "execution_count": 366
        }
      ]
    },
    {
      "cell_type": "code",
      "source": [
        "#all the interest rates are in percentages so removing % sign and converting it to float\n",
        "loan['int_rate']=loan['int_rate'].apply(lambda x:x.strip('%'))\n",
        "loan['int_rate']=loan['int_rate'].astype('float')\n",
        "loan['int_rate']"
      ],
      "metadata": {
        "colab": {
          "base_uri": "https://localhost:8080/"
        },
        "id": "12rFhs8bobCn",
        "outputId": "bec8d47a-08d1-45d5-f6f4-16a6d9dd2e08"
      },
      "id": "12rFhs8bobCn",
      "execution_count": null,
      "outputs": [
        {
          "output_type": "execute_result",
          "data": {
            "text/plain": [
              "0        10.65\n",
              "1        15.27\n",
              "2        15.96\n",
              "3        13.49\n",
              "4        12.69\n",
              "         ...  \n",
              "39712     8.07\n",
              "39713    10.28\n",
              "39714     8.07\n",
              "39715     7.43\n",
              "39716    13.75\n",
              "Name: int_rate, Length: 39717, dtype: float64"
            ]
          },
          "metadata": {},
          "execution_count": 367
        }
      ]
    },
    {
      "cell_type": "code",
      "source": [
        "loan['term']"
      ],
      "metadata": {
        "colab": {
          "base_uri": "https://localhost:8080/"
        },
        "id": "pzdlNDB4olF8",
        "outputId": "dddc68ce-6cb9-41c2-9473-5d7605b5c00d"
      },
      "id": "pzdlNDB4olF8",
      "execution_count": null,
      "outputs": [
        {
          "output_type": "execute_result",
          "data": {
            "text/plain": [
              "0         36 months\n",
              "1         60 months\n",
              "2         36 months\n",
              "3         36 months\n",
              "4         60 months\n",
              "            ...    \n",
              "39712     36 months\n",
              "39713     36 months\n",
              "39714     36 months\n",
              "39715     36 months\n",
              "39716     36 months\n",
              "Name: term, Length: 39717, dtype: object"
            ]
          },
          "metadata": {},
          "execution_count": 368
        }
      ]
    },
    {
      "cell_type": "code",
      "source": [
        "#all the term duration is in months so removing suffix and converting to int\n",
        "loan['term']=loan['term'].apply(lambda x:x.strip(' months'))\n",
        "loan['term']=loan['term'].astype('int')\n",
        "loan['term']"
      ],
      "metadata": {
        "colab": {
          "base_uri": "https://localhost:8080/"
        },
        "id": "STbLTIOgorJm",
        "outputId": "d6508e00-1568-4288-da2d-af3b0bbd6e60"
      },
      "id": "STbLTIOgorJm",
      "execution_count": null,
      "outputs": [
        {
          "output_type": "execute_result",
          "data": {
            "text/plain": [
              "0        36\n",
              "1        60\n",
              "2        36\n",
              "3        36\n",
              "4        60\n",
              "         ..\n",
              "39712    36\n",
              "39713    36\n",
              "39714    36\n",
              "39715    36\n",
              "39716    36\n",
              "Name: term, Length: 39717, dtype: int64"
            ]
          },
          "metadata": {},
          "execution_count": 369
        }
      ]
    },
    {
      "cell_type": "code",
      "source": [
        "loan['grade']"
      ],
      "metadata": {
        "colab": {
          "base_uri": "https://localhost:8080/"
        },
        "id": "JS60d2jRo4ct",
        "outputId": "13505b95-7d66-4340-e34c-38c7324da661"
      },
      "id": "JS60d2jRo4ct",
      "execution_count": null,
      "outputs": [
        {
          "output_type": "execute_result",
          "data": {
            "text/plain": [
              "0        B\n",
              "1        C\n",
              "2        C\n",
              "3        C\n",
              "4        B\n",
              "        ..\n",
              "39712    A\n",
              "39713    C\n",
              "39714    A\n",
              "39715    A\n",
              "39716    E\n",
              "Name: grade, Length: 39717, dtype: object"
            ]
          },
          "metadata": {},
          "execution_count": 370
        }
      ]
    },
    {
      "cell_type": "code",
      "source": [
        "loan['sub_grade']"
      ],
      "metadata": {
        "colab": {
          "base_uri": "https://localhost:8080/"
        },
        "id": "mA9lx2Z_pEub",
        "outputId": "4b5f9797-91c5-4955-f4e6-288795794ee4"
      },
      "id": "mA9lx2Z_pEub",
      "execution_count": null,
      "outputs": [
        {
          "output_type": "execute_result",
          "data": {
            "text/plain": [
              "0        B2\n",
              "1        C4\n",
              "2        C5\n",
              "3        C1\n",
              "4        B5\n",
              "         ..\n",
              "39712    A4\n",
              "39713    C1\n",
              "39714    A4\n",
              "39715    A2\n",
              "39716    E2\n",
              "Name: sub_grade, Length: 39717, dtype: object"
            ]
          },
          "metadata": {},
          "execution_count": 371
        }
      ]
    },
    {
      "cell_type": "code",
      "source": [
        "#since sub grade even captures grade so dropping grade\n",
        "loan=loan.drop('grade',axis=1)"
      ],
      "metadata": {
        "id": "UXM9Mp0FpJB9"
      },
      "id": "UXM9Mp0FpJB9",
      "execution_count": null,
      "outputs": []
    },
    {
      "cell_type": "code",
      "source": [
        "loan['emp_length']"
      ],
      "metadata": {
        "colab": {
          "base_uri": "https://localhost:8080/"
        },
        "id": "_MiPWS1splvU",
        "outputId": "08af7feb-6276-4127-d352-ccaebef256fa"
      },
      "id": "_MiPWS1splvU",
      "execution_count": null,
      "outputs": [
        {
          "output_type": "execute_result",
          "data": {
            "text/plain": [
              "0        10+ years\n",
              "1         < 1 year\n",
              "2        10+ years\n",
              "3        10+ years\n",
              "4           1 year\n",
              "           ...    \n",
              "39712      4 years\n",
              "39713      3 years\n",
              "39714     < 1 year\n",
              "39715     < 1 year\n",
              "39716     < 1 year\n",
              "Name: emp_length, Length: 39717, dtype: object"
            ]
          },
          "metadata": {},
          "execution_count": 373
        }
      ]
    },
    {
      "cell_type": "code",
      "source": [
        "loan['home_ownership']"
      ],
      "metadata": {
        "colab": {
          "base_uri": "https://localhost:8080/"
        },
        "id": "Y4WnX_4ip3mL",
        "outputId": "f47392d8-035e-4dd8-fa3f-37798bf87a49"
      },
      "id": "Y4WnX_4ip3mL",
      "execution_count": null,
      "outputs": [
        {
          "output_type": "execute_result",
          "data": {
            "text/plain": [
              "0            RENT\n",
              "1            RENT\n",
              "2            RENT\n",
              "3            RENT\n",
              "4            RENT\n",
              "           ...   \n",
              "39712    MORTGAGE\n",
              "39713        RENT\n",
              "39714    MORTGAGE\n",
              "39715    MORTGAGE\n",
              "39716         OWN\n",
              "Name: home_ownership, Length: 39717, dtype: object"
            ]
          },
          "metadata": {},
          "execution_count": 374
        }
      ]
    },
    {
      "cell_type": "code",
      "source": [
        "loan['issue_d']"
      ],
      "metadata": {
        "colab": {
          "base_uri": "https://localhost:8080/"
        },
        "id": "rvvzNVYOqDHI",
        "outputId": "b5896563-d8a1-4706-e286-3eaf603db47a"
      },
      "id": "rvvzNVYOqDHI",
      "execution_count": null,
      "outputs": [
        {
          "output_type": "execute_result",
          "data": {
            "text/plain": [
              "0        Dec-11\n",
              "1        Dec-11\n",
              "2        Dec-11\n",
              "3        Dec-11\n",
              "4        Dec-11\n",
              "          ...  \n",
              "39712    Jul-07\n",
              "39713    Jul-07\n",
              "39714    Jul-07\n",
              "39715    Jul-07\n",
              "39716    Jun-07\n",
              "Name: issue_d, Length: 39717, dtype: object"
            ]
          },
          "metadata": {},
          "execution_count": 375
        }
      ]
    },
    {
      "cell_type": "code",
      "source": [
        "#converting issue_d to datetime\n",
        "loan['issue_d']=loan['issue_d'].apply(lambda x:datetime.strptime(x,'%b-%d'))\n",
        "loan['issue_d']"
      ],
      "metadata": {
        "colab": {
          "base_uri": "https://localhost:8080/"
        },
        "id": "10yF-mkeqHZa",
        "outputId": "c413fba1-0e47-4197-bdab-9d225f4848b7"
      },
      "id": "10yF-mkeqHZa",
      "execution_count": null,
      "outputs": [
        {
          "output_type": "execute_result",
          "data": {
            "text/plain": [
              "0       1900-12-11\n",
              "1       1900-12-11\n",
              "2       1900-12-11\n",
              "3       1900-12-11\n",
              "4       1900-12-11\n",
              "           ...    \n",
              "39712   1900-07-07\n",
              "39713   1900-07-07\n",
              "39714   1900-07-07\n",
              "39715   1900-07-07\n",
              "39716   1900-06-07\n",
              "Name: issue_d, Length: 39717, dtype: datetime64[ns]"
            ]
          },
          "metadata": {},
          "execution_count": 376
        }
      ]
    },
    {
      "cell_type": "code",
      "source": [
        "#extracting month from the date\n",
        "loan['issue_d_month']=loan['issue_d'].dt.month\n",
        "loan['issue_d_month']"
      ],
      "metadata": {
        "colab": {
          "base_uri": "https://localhost:8080/"
        },
        "id": "YUv3XCj2rMrU",
        "outputId": "9a2ea105-7417-4436-83e7-77ab2753c88f"
      },
      "id": "YUv3XCj2rMrU",
      "execution_count": null,
      "outputs": [
        {
          "output_type": "execute_result",
          "data": {
            "text/plain": [
              "0        12\n",
              "1        12\n",
              "2        12\n",
              "3        12\n",
              "4        12\n",
              "         ..\n",
              "39712     7\n",
              "39713     7\n",
              "39714     7\n",
              "39715     7\n",
              "39716     6\n",
              "Name: issue_d_month, Length: 39717, dtype: int64"
            ]
          },
          "metadata": {},
          "execution_count": 377
        }
      ]
    },
    {
      "cell_type": "code",
      "source": [
        "loan['verification_status']"
      ],
      "metadata": {
        "colab": {
          "base_uri": "https://localhost:8080/"
        },
        "id": "-q4H2Fr0rgsS",
        "outputId": "4bc74811-fb31-431a-a1e3-edb636f069d1"
      },
      "id": "-q4H2Fr0rgsS",
      "execution_count": null,
      "outputs": [
        {
          "output_type": "execute_result",
          "data": {
            "text/plain": [
              "0               Verified\n",
              "1        Source Verified\n",
              "2           Not Verified\n",
              "3        Source Verified\n",
              "4        Source Verified\n",
              "              ...       \n",
              "39712       Not Verified\n",
              "39713       Not Verified\n",
              "39714       Not Verified\n",
              "39715       Not Verified\n",
              "39716       Not Verified\n",
              "Name: verification_status, Length: 39717, dtype: object"
            ]
          },
          "metadata": {},
          "execution_count": 378
        }
      ]
    },
    {
      "cell_type": "code",
      "source": [
        "loan['earliest_cr_line']"
      ],
      "metadata": {
        "colab": {
          "base_uri": "https://localhost:8080/"
        },
        "id": "EmcC7vndryzU",
        "outputId": "ba0296e1-c400-4e52-857c-898e6f64b0a5"
      },
      "id": "EmcC7vndryzU",
      "execution_count": null,
      "outputs": [
        {
          "output_type": "execute_result",
          "data": {
            "text/plain": [
              "0        Jan-85\n",
              "1        Apr-99\n",
              "2        Nov-01\n",
              "3        Feb-96\n",
              "4        Jan-96\n",
              "          ...  \n",
              "39712    Nov-90\n",
              "39713    Dec-86\n",
              "39714    Oct-98\n",
              "39715    Nov-88\n",
              "39716    Oct-03\n",
              "Name: earliest_cr_line, Length: 39717, dtype: object"
            ]
          },
          "metadata": {},
          "execution_count": 379
        }
      ]
    },
    {
      "cell_type": "code",
      "source": [
        "def convert_to_datetime(date):\n",
        "  dt=datetime.strptime(date,'%b-%y')\n",
        "  if dt > datetime.now():\n",
        "    dt-=relativedelta(years=100)\n",
        "  return dt"
      ],
      "metadata": {
        "id": "64hc9U9M08BQ"
      },
      "id": "64hc9U9M08BQ",
      "execution_count": null,
      "outputs": []
    },
    {
      "cell_type": "code",
      "source": [
        "loan['earliest_cr_line']=loan['earliest_cr_line'].apply(lambda x:convert_to_datetime(x))\n",
        "loan['earliest_cr_line'].value_counts()"
      ],
      "metadata": {
        "colab": {
          "base_uri": "https://localhost:8080/"
        },
        "id": "-mKWyklJr5cv",
        "outputId": "4ad84e9f-c989-4501-c843-ff7308e47fc0"
      },
      "id": "-mKWyklJr5cv",
      "execution_count": null,
      "outputs": [
        {
          "output_type": "execute_result",
          "data": {
            "text/plain": [
              "1998-11-01    370\n",
              "1999-10-01    366\n",
              "1998-12-01    348\n",
              "2000-10-01    346\n",
              "1997-12-01    329\n",
              "             ... \n",
              "1966-02-01      1\n",
              "1961-12-01      1\n",
              "1954-10-01      1\n",
              "1972-06-01      1\n",
              "1974-10-01      1\n",
              "Name: earliest_cr_line, Length: 526, dtype: int64"
            ]
          },
          "metadata": {},
          "execution_count": 381
        }
      ]
    },
    {
      "cell_type": "code",
      "source": [
        "loan['revol_util'].isnull().sum()"
      ],
      "metadata": {
        "colab": {
          "base_uri": "https://localhost:8080/"
        },
        "id": "HxaH-ezG20OD",
        "outputId": "f78b48ae-adff-4b34-ae25-f61c401e388d"
      },
      "id": "HxaH-ezG20OD",
      "execution_count": null,
      "outputs": [
        {
          "output_type": "execute_result",
          "data": {
            "text/plain": [
              "50"
            ]
          },
          "metadata": {},
          "execution_count": 382
        }
      ]
    },
    {
      "cell_type": "code",
      "source": [
        "loan['revol_util'].fillna('0%')"
      ],
      "metadata": {
        "colab": {
          "base_uri": "https://localhost:8080/"
        },
        "id": "h7-YVou-27MQ",
        "outputId": "110d81ee-4c58-4888-b22a-b3ad296f8c36"
      },
      "id": "h7-YVou-27MQ",
      "execution_count": null,
      "outputs": [
        {
          "output_type": "execute_result",
          "data": {
            "text/plain": [
              "0        83.70%\n",
              "1         9.40%\n",
              "2        98.50%\n",
              "3           21%\n",
              "4        53.90%\n",
              "          ...  \n",
              "39712    13.10%\n",
              "39713    26.90%\n",
              "39714    19.40%\n",
              "39715     0.70%\n",
              "39716    51.50%\n",
              "Name: revol_util, Length: 39717, dtype: object"
            ]
          },
          "metadata": {},
          "execution_count": 383
        }
      ]
    },
    {
      "cell_type": "code",
      "source": [
        "loan['revol_util']=loan['revol_util'].astype('category')"
      ],
      "metadata": {
        "id": "DZf3a2ti3aDG"
      },
      "id": "DZf3a2ti3aDG",
      "execution_count": null,
      "outputs": []
    },
    {
      "cell_type": "code",
      "source": [
        "#all the rates are in percentages so removing % sign and converting it to float\n",
        "loan['revol_util']=loan['revol_util'].apply(lambda x:x.strip('%'))\n",
        "loan['revol_util']=loan['revol_util'].astype('float')\n",
        "loan['revol_util']"
      ],
      "metadata": {
        "colab": {
          "base_uri": "https://localhost:8080/"
        },
        "id": "AEp6Xy1P2Pw4",
        "outputId": "5b8ba55b-7ed8-41dd-e878-28d690a7d774"
      },
      "id": "AEp6Xy1P2Pw4",
      "execution_count": null,
      "outputs": [
        {
          "output_type": "execute_result",
          "data": {
            "text/plain": [
              "0        83.7\n",
              "1         9.4\n",
              "2        98.5\n",
              "3        21.0\n",
              "4        53.9\n",
              "         ... \n",
              "39712    13.1\n",
              "39713    26.9\n",
              "39714    19.4\n",
              "39715     0.7\n",
              "39716    51.5\n",
              "Name: revol_util, Length: 39717, dtype: float64"
            ]
          },
          "metadata": {},
          "execution_count": 385
        }
      ]
    },
    {
      "cell_type": "code",
      "source": [
        "loan['initial_list_status']"
      ],
      "metadata": {
        "colab": {
          "base_uri": "https://localhost:8080/"
        },
        "id": "t1Z6_iIy4P49",
        "outputId": "9794477e-9899-4901-cf5b-0eb40a280f8b"
      },
      "id": "t1Z6_iIy4P49",
      "execution_count": null,
      "outputs": [
        {
          "output_type": "execute_result",
          "data": {
            "text/plain": [
              "0        f\n",
              "1        f\n",
              "2        f\n",
              "3        f\n",
              "4        f\n",
              "        ..\n",
              "39712    f\n",
              "39713    f\n",
              "39714    f\n",
              "39715    f\n",
              "39716    f\n",
              "Name: initial_list_status, Length: 39717, dtype: object"
            ]
          },
          "metadata": {},
          "execution_count": 386
        }
      ]
    },
    {
      "cell_type": "code",
      "source": [
        "loan['initial_list_status'].value_counts()"
      ],
      "metadata": {
        "colab": {
          "base_uri": "https://localhost:8080/"
        },
        "id": "FKPwicMd4SBh",
        "outputId": "39b0552e-f787-4cf3-d27f-1bcdf36bb2e2"
      },
      "id": "FKPwicMd4SBh",
      "execution_count": null,
      "outputs": [
        {
          "output_type": "execute_result",
          "data": {
            "text/plain": [
              "f    39717\n",
              "Name: initial_list_status, dtype: int64"
            ]
          },
          "metadata": {},
          "execution_count": 387
        }
      ]
    },
    {
      "cell_type": "code",
      "source": [
        "#dropping this column as all rows have same values\n",
        "loan=loan.drop('initial_list_status',axis=1)"
      ],
      "metadata": {
        "id": "GMNPjwO-4d_5"
      },
      "id": "GMNPjwO-4d_5",
      "execution_count": null,
      "outputs": []
    },
    {
      "cell_type": "code",
      "source": [
        "loan['last_pymnt_d']"
      ],
      "metadata": {
        "colab": {
          "base_uri": "https://localhost:8080/"
        },
        "id": "rRTn89W55dCz",
        "outputId": "941ef996-9199-4df0-aa78-836991887bff"
      },
      "id": "rRTn89W55dCz",
      "execution_count": null,
      "outputs": [
        {
          "output_type": "execute_result",
          "data": {
            "text/plain": [
              "0        Jan-15\n",
              "1        Apr-13\n",
              "2        Jun-14\n",
              "3        Jan-15\n",
              "4        May-16\n",
              "          ...  \n",
              "39712    Jul-10\n",
              "39713    Jul-10\n",
              "39714    Apr-08\n",
              "39715    Jan-08\n",
              "39716    Jun-10\n",
              "Name: last_pymnt_d, Length: 39717, dtype: object"
            ]
          },
          "metadata": {},
          "execution_count": 389
        }
      ]
    },
    {
      "cell_type": "code",
      "source": [
        "loan['last_pymnt_d']=loan['last_pymnt_d'].astype('category')"
      ],
      "metadata": {
        "id": "_cT6ZdyS4zjw"
      },
      "id": "_cT6ZdyS4zjw",
      "execution_count": null,
      "outputs": []
    },
    {
      "cell_type": "code",
      "source": [
        "loan['last_pymnt_d']=loan['last_pymnt_d'].apply(lambda x:convert_to_datetime(x))\n",
        "loan['last_pymnt_d']"
      ],
      "metadata": {
        "colab": {
          "base_uri": "https://localhost:8080/"
        },
        "id": "GNBn6R945Jkt",
        "outputId": "09d894d6-e499-4e6a-b6ec-526cd8a40119"
      },
      "id": "GNBn6R945Jkt",
      "execution_count": null,
      "outputs": [
        {
          "output_type": "execute_result",
          "data": {
            "text/plain": [
              "0       2015-01-01\n",
              "1       2013-04-01\n",
              "2       2014-06-01\n",
              "3       2015-01-01\n",
              "4       2016-05-01\n",
              "           ...    \n",
              "39712   2010-07-01\n",
              "39713   2010-07-01\n",
              "39714   2008-04-01\n",
              "39715   2008-01-01\n",
              "39716   2010-06-01\n",
              "Name: last_pymnt_d, Length: 39717, dtype: category\n",
              "Categories (101, datetime64[ns]): [2008-04-01, 2009-04-01, 2010-04-01, 2011-04-01, ..., 2012-09-01,\n",
              "                                   2013-09-01, 2014-09-01, 2015-09-01]"
            ]
          },
          "metadata": {},
          "execution_count": 391
        }
      ]
    },
    {
      "cell_type": "code",
      "source": [
        "loan['next_pymnt_d']"
      ],
      "metadata": {
        "colab": {
          "base_uri": "https://localhost:8080/"
        },
        "id": "C065rYkL5fMn",
        "outputId": "904f9936-5f7e-4076-b28d-c0185563a45f"
      },
      "id": "C065rYkL5fMn",
      "execution_count": null,
      "outputs": [
        {
          "output_type": "execute_result",
          "data": {
            "text/plain": [
              "0           NaN\n",
              "1           NaN\n",
              "2           NaN\n",
              "3           NaN\n",
              "4        Jun-16\n",
              "          ...  \n",
              "39712       NaN\n",
              "39713       NaN\n",
              "39714       NaN\n",
              "39715       NaN\n",
              "39716       NaN\n",
              "Name: next_pymnt_d, Length: 39717, dtype: object"
            ]
          },
          "metadata": {},
          "execution_count": 392
        }
      ]
    },
    {
      "cell_type": "code",
      "source": [
        "loan['next_pymnt_d'].isnull().sum()"
      ],
      "metadata": {
        "colab": {
          "base_uri": "https://localhost:8080/"
        },
        "id": "tyKMYzkZ5kno",
        "outputId": "c75b54d0-c1e9-4760-b9ee-55015920306b"
      },
      "id": "tyKMYzkZ5kno",
      "execution_count": null,
      "outputs": [
        {
          "output_type": "execute_result",
          "data": {
            "text/plain": [
              "38577"
            ]
          },
          "metadata": {},
          "execution_count": 393
        }
      ]
    },
    {
      "cell_type": "code",
      "source": [
        "#dropping this columns as most of the rows have null values\n",
        "loan=loan.drop('next_pymnt_d',axis=1)"
      ],
      "metadata": {
        "id": "l0lrJNxr5q8n"
      },
      "id": "l0lrJNxr5q8n",
      "execution_count": null,
      "outputs": []
    },
    {
      "cell_type": "code",
      "source": [
        "loan['last_credit_pull_d']"
      ],
      "metadata": {
        "colab": {
          "base_uri": "https://localhost:8080/"
        },
        "id": "IHaWR0rh51cP",
        "outputId": "4a8536c8-7e76-4e73-afe9-c75ba1d7c7b9"
      },
      "id": "IHaWR0rh51cP",
      "execution_count": null,
      "outputs": [
        {
          "output_type": "execute_result",
          "data": {
            "text/plain": [
              "0        May-16\n",
              "1        Sep-13\n",
              "2        May-16\n",
              "3        Apr-16\n",
              "4        May-16\n",
              "          ...  \n",
              "39712    Jun-10\n",
              "39713    Jul-10\n",
              "39714    Jun-07\n",
              "39715    Jun-07\n",
              "39716    Jun-10\n",
              "Name: last_credit_pull_d, Length: 39717, dtype: object"
            ]
          },
          "metadata": {},
          "execution_count": 395
        }
      ]
    },
    {
      "cell_type": "code",
      "source": [
        "loan['last_credit_pull_d']=loan['last_credit_pull_d'].astype('category')"
      ],
      "metadata": {
        "id": "onyMOyz46Ltr"
      },
      "id": "onyMOyz46Ltr",
      "execution_count": null,
      "outputs": []
    },
    {
      "cell_type": "code",
      "source": [
        "loan['last_credit_pull_d']=loan['last_credit_pull_d'].apply(lambda x:convert_to_datetime(x))\n",
        "loan['last_credit_pull_d']"
      ],
      "metadata": {
        "colab": {
          "base_uri": "https://localhost:8080/"
        },
        "id": "pqG0AzKN6Dv-",
        "outputId": "72f0bdd8-2286-470f-ef68-cd22eb5b03f2"
      },
      "id": "pqG0AzKN6Dv-",
      "execution_count": null,
      "outputs": [
        {
          "output_type": "execute_result",
          "data": {
            "text/plain": [
              "0       2016-05-01\n",
              "1       2013-09-01\n",
              "2       2016-05-01\n",
              "3       2016-04-01\n",
              "4       2016-05-01\n",
              "           ...    \n",
              "39712   2010-06-01\n",
              "39713   2010-07-01\n",
              "39714   2007-06-01\n",
              "39715   2007-06-01\n",
              "39716   2010-06-01\n",
              "Name: last_credit_pull_d, Length: 39717, dtype: category\n",
              "Categories (106, datetime64[ns]): [2009-04-01, 2010-04-01, 2011-04-01, 2012-04-01, ..., 2012-09-01,\n",
              "                                   2013-09-01, 2014-09-01, 2015-09-01]"
            ]
          },
          "metadata": {},
          "execution_count": 397
        }
      ]
    },
    {
      "cell_type": "code",
      "source": [
        "loan['application_type']"
      ],
      "metadata": {
        "colab": {
          "base_uri": "https://localhost:8080/"
        },
        "id": "VFzf1orp6Szt",
        "outputId": "69e6f1df-9a8c-45b4-94f9-29b1f12b443d"
      },
      "id": "VFzf1orp6Szt",
      "execution_count": null,
      "outputs": [
        {
          "output_type": "execute_result",
          "data": {
            "text/plain": [
              "0        INDIVIDUAL\n",
              "1        INDIVIDUAL\n",
              "2        INDIVIDUAL\n",
              "3        INDIVIDUAL\n",
              "4        INDIVIDUAL\n",
              "            ...    \n",
              "39712    INDIVIDUAL\n",
              "39713    INDIVIDUAL\n",
              "39714    INDIVIDUAL\n",
              "39715    INDIVIDUAL\n",
              "39716    INDIVIDUAL\n",
              "Name: application_type, Length: 39717, dtype: object"
            ]
          },
          "metadata": {},
          "execution_count": 398
        }
      ]
    },
    {
      "cell_type": "code",
      "source": [
        "loan['application_type'].value_counts()"
      ],
      "metadata": {
        "colab": {
          "base_uri": "https://localhost:8080/"
        },
        "id": "kFkdszmT6YIY",
        "outputId": "91d4db5b-0e8a-4b3f-87fd-240bfe1db2a9"
      },
      "id": "kFkdszmT6YIY",
      "execution_count": null,
      "outputs": [
        {
          "output_type": "execute_result",
          "data": {
            "text/plain": [
              "INDIVIDUAL    39717\n",
              "Name: application_type, dtype: int64"
            ]
          },
          "metadata": {},
          "execution_count": 399
        }
      ]
    },
    {
      "cell_type": "code",
      "source": [
        "#dropping this column as all values are same\n",
        "loan=loan.drop('application_type',axis=1)"
      ],
      "metadata": {
        "id": "RDyaWRv-6dUd"
      },
      "id": "RDyaWRv-6dUd",
      "execution_count": null,
      "outputs": []
    },
    {
      "cell_type": "code",
      "source": [
        "loan.shape"
      ],
      "metadata": {
        "colab": {
          "base_uri": "https://localhost:8080/"
        },
        "id": "69MwKgW56m2G",
        "outputId": "6493c341-1b7f-4a3e-83d5-fa2e2c3f43ba"
      },
      "id": "69MwKgW56m2G",
      "execution_count": null,
      "outputs": [
        {
          "output_type": "execute_result",
          "data": {
            "text/plain": [
              "(39717, 52)"
            ]
          },
          "metadata": {},
          "execution_count": 401
        }
      ]
    },
    {
      "cell_type": "markdown",
      "id": "7917f21e",
      "metadata": {
        "id": "7917f21e"
      },
      "source": [
        "# Missing Value"
      ]
    },
    {
      "cell_type": "code",
      "source": [
        "loan.isnull().sum()"
      ],
      "metadata": {
        "colab": {
          "base_uri": "https://localhost:8080/"
        },
        "id": "eYD8SKDN6wdT",
        "outputId": "43a70f71-fd57-428f-9d3f-b98286446263"
      },
      "id": "eYD8SKDN6wdT",
      "execution_count": null,
      "outputs": [
        {
          "output_type": "execute_result",
          "data": {
            "text/plain": [
              "loan_amnt                         0\n",
              "funded_amnt                       0\n",
              "funded_amnt_inv                   0\n",
              "term                              0\n",
              "int_rate                          0\n",
              "installment                       0\n",
              "sub_grade                         0\n",
              "emp_title                      2459\n",
              "emp_length                     1075\n",
              "home_ownership                    0\n",
              "annual_inc                        0\n",
              "verification_status               0\n",
              "issue_d                           0\n",
              "loan_status                       0\n",
              "pymnt_plan                        0\n",
              "url                               0\n",
              "desc                          12940\n",
              "purpose                           0\n",
              "title                            11\n",
              "zip_code                          0\n",
              "addr_state                        0\n",
              "dti                               0\n",
              "delinq_2yrs                       0\n",
              "earliest_cr_line                  0\n",
              "inq_last_6mths                    0\n",
              "mths_since_last_delinq        25682\n",
              "mths_since_last_record        36931\n",
              "open_acc                          0\n",
              "pub_rec                           0\n",
              "revol_bal                         0\n",
              "revol_util                       50\n",
              "total_acc                         0\n",
              "out_prncp                         0\n",
              "out_prncp_inv                     0\n",
              "total_pymnt                       0\n",
              "total_pymnt_inv                   0\n",
              "total_rec_prncp                   0\n",
              "total_rec_int                     0\n",
              "total_rec_late_fee                0\n",
              "recoveries                        0\n",
              "collection_recovery_fee           0\n",
              "last_pymnt_d                     71\n",
              "last_pymnt_amnt                   0\n",
              "last_credit_pull_d                2\n",
              "collections_12_mths_ex_med       56\n",
              "policy_code                       0\n",
              "acc_now_delinq                    0\n",
              "chargeoff_within_12_mths         56\n",
              "delinq_amnt                       0\n",
              "pub_rec_bankruptcies            697\n",
              "tax_liens                        39\n",
              "issue_d_month                     0\n",
              "dtype: int64"
            ]
          },
          "metadata": {},
          "execution_count": 402
        }
      ]
    },
    {
      "cell_type": "code",
      "source": [
        "#replacing all missing values in categorical columns with their respective modes\n",
        "df_categorical=loan.select_dtypes(exclude='number')\n",
        "df_categorical.isnull().sum()"
      ],
      "metadata": {
        "colab": {
          "base_uri": "https://localhost:8080/"
        },
        "id": "KhubPJBU7YZI",
        "outputId": "272f1dcb-0c3f-4091-f21c-d14b252571ca"
      },
      "id": "KhubPJBU7YZI",
      "execution_count": null,
      "outputs": [
        {
          "output_type": "execute_result",
          "data": {
            "text/plain": [
              "sub_grade                  0\n",
              "emp_title               2459\n",
              "emp_length              1075\n",
              "home_ownership             0\n",
              "verification_status        0\n",
              "issue_d                    0\n",
              "loan_status                0\n",
              "pymnt_plan                 0\n",
              "url                        0\n",
              "desc                   12940\n",
              "purpose                    0\n",
              "title                     11\n",
              "zip_code                   0\n",
              "addr_state                 0\n",
              "earliest_cr_line           0\n",
              "last_pymnt_d              71\n",
              "last_credit_pull_d         2\n",
              "dtype: int64"
            ]
          },
          "metadata": {},
          "execution_count": 403
        }
      ]
    },
    {
      "cell_type": "code",
      "source": [
        "for i in df_categorical.columns:\n",
        "  df_categorical[i]=df_categorical[i].fillna(mode(df_categorical[i]))\n",
        "df_categorical.isnull().sum()"
      ],
      "metadata": {
        "colab": {
          "base_uri": "https://localhost:8080/"
        },
        "id": "tKQ_SpBD-zQW",
        "outputId": "b35cd1e8-b046-4371-b44e-957111185783"
      },
      "id": "tKQ_SpBD-zQW",
      "execution_count": null,
      "outputs": [
        {
          "output_type": "execute_result",
          "data": {
            "text/plain": [
              "sub_grade                  0\n",
              "emp_title               2459\n",
              "emp_length                 0\n",
              "home_ownership             0\n",
              "verification_status        0\n",
              "issue_d                    0\n",
              "loan_status                0\n",
              "pymnt_plan                 0\n",
              "url                        0\n",
              "desc                   12940\n",
              "purpose                    0\n",
              "title                      0\n",
              "zip_code                   0\n",
              "addr_state                 0\n",
              "earliest_cr_line           0\n",
              "last_pymnt_d               0\n",
              "last_credit_pull_d         0\n",
              "dtype: int64"
            ]
          },
          "metadata": {},
          "execution_count": 404
        }
      ]
    },
    {
      "cell_type": "code",
      "source": [
        "df_categorical['emp_title'].value_counts()"
      ],
      "metadata": {
        "colab": {
          "base_uri": "https://localhost:8080/"
        },
        "id": "zXppYAoi_YoS",
        "outputId": "844cdf08-3127-4f7e-bba7-cdfa74338103"
      },
      "id": "zXppYAoi_YoS",
      "execution_count": null,
      "outputs": [
        {
          "output_type": "execute_result",
          "data": {
            "text/plain": [
              "US Army                              134\n",
              "Bank of America                      109\n",
              "IBM                                   66\n",
              "AT&T                                  59\n",
              "Kaiser Permanente                     56\n",
              "                                    ... \n",
              "Community College of Philadelphia      1\n",
              "AMEC                                   1\n",
              "lee county sheriff                     1\n",
              "Bacon County Board of Education        1\n",
              "Evergreen Center                       1\n",
              "Name: emp_title, Length: 28820, dtype: int64"
            ]
          },
          "metadata": {},
          "execution_count": 405
        }
      ]
    },
    {
      "cell_type": "code",
      "source": [
        "df_categorical['desc'].value_counts()"
      ],
      "metadata": {
        "colab": {
          "base_uri": "https://localhost:8080/"
        },
        "id": "lCVBe17cU8Kb",
        "outputId": "57030402-c55b-4257-9187-7456fa9422c3"
      },
      "id": "lCVBe17cU8Kb",
      "execution_count": null,
      "outputs": [
        {
          "output_type": "execute_result",
          "data": {
            "text/plain": [
              "                                                                                                                                                                                                                                                                                                                                                                                                                                                                                                                                                                                                                                                                              210\n",
              "Debt Consolidation                                                                                                                                                                                                                                                                                                                                                                                                                                                                                                                                                                                                                                                              8\n",
              "Camping Membership                                                                                                                                                                                                                                                                                                                                                                                                                                                                                                                                                                                                                                                              6\n",
              "personal loan                                                                                                                                                                                                                                                                                                                                                                                                                                                                                                                                                                                                                                                                   3\n",
              "credit card consolidation                                                                                                                                                                                                                                                                                                                                                                                                                                                                                                                                                                                                                                                       3\n",
              "                                                                                                                                                                                                                                                                                                                                                                                                                                                                                                                                                                                                                                                                             ... \n",
              "  Borrower added on 05/13/11 > I have a very stable income and have &quot;NEVER&quot; been delinquent on any accounts. I am interested in consolidating my credit card accounts along with a personal loan for the benefit of paying one payment a month versus multiple. Thank you.<br/>                                                                                                                                                                                                                                                                                                                                                                                       1\n",
              "  Borrower added on 05/13/11 > This loan is to partially finance a car. The payments will be very manageable for me.<br/>                                                                                                                                                                                                                                                                                                                                                                                                                                                                                                                                                       1\n",
              "  Borrower added on 05/13/11 > I am consolidating my bills to make it cheaper on bills. I am up for a promotion at my job and have been here three years already. I also have a fiance that has a very reliable job who also helps with finances. My requirement is that all bills are paid on time if not early. This is to keep good standings with all businesses and keep a awesome credit score.<br/> Borrower added on 05/16/11 > I am asking for this loan to pay off bills with higher interest rates and have a lower payment every month.<br/>                                                                                                                        1\n",
              "  Borrower added on 05/13/11 > Debt Consolidation<br/> Borrower added on 05/13/11 > I plan to use this money to consolidate bills with high monthly payments and improve cash flow.<br/> Borrower added on 05/13/11 > I have good credit and I have a very stable, solid and professional job that I have held for a long time - over 20 years.  I have a Bachelor's degree and I'm currently working on a masters.<br/> Borrower added on 05/13/11 > My mortgage and utilities run approx less than 2k per month including taxes.  I have sufficient income to pay off this loan. I simply want to take my open accounts and consolidate them into one easy payment.<br/>      1\n",
              "I plan to consolidate over $7,000 of debt: a combination of credit cards and student loans.                                                                                                                                                                                                                                                                                                                                                                                                                                                                                                                                                                                     1\n",
              "Name: desc, Length: 26527, dtype: int64"
            ]
          },
          "metadata": {},
          "execution_count": 406
        }
      ]
    },
    {
      "cell_type": "code",
      "source": [
        "df_categorical=df_categorical.fillna(' ')\n",
        "df_categorical.isnull().sum()"
      ],
      "metadata": {
        "colab": {
          "base_uri": "https://localhost:8080/"
        },
        "id": "sMOTFucCVQ8t",
        "outputId": "0e1d488d-e108-49c5-bb1a-749aec922a69"
      },
      "id": "sMOTFucCVQ8t",
      "execution_count": null,
      "outputs": [
        {
          "output_type": "execute_result",
          "data": {
            "text/plain": [
              "sub_grade              0\n",
              "emp_title              0\n",
              "emp_length             0\n",
              "home_ownership         0\n",
              "verification_status    0\n",
              "issue_d                0\n",
              "loan_status            0\n",
              "pymnt_plan             0\n",
              "url                    0\n",
              "desc                   0\n",
              "purpose                0\n",
              "title                  0\n",
              "zip_code               0\n",
              "addr_state             0\n",
              "earliest_cr_line       0\n",
              "last_pymnt_d           0\n",
              "last_credit_pull_d     0\n",
              "dtype: int64"
            ]
          },
          "metadata": {},
          "execution_count": 407
        }
      ]
    },
    {
      "cell_type": "code",
      "source": [
        "df_numeric=loan.select_dtypes(include='number')\n",
        "df_numeric.columns"
      ],
      "metadata": {
        "colab": {
          "base_uri": "https://localhost:8080/"
        },
        "id": "_07QbJoKVchb",
        "outputId": "4514be88-ab46-4ff1-bad0-5585d4561bc0"
      },
      "id": "_07QbJoKVchb",
      "execution_count": null,
      "outputs": [
        {
          "output_type": "execute_result",
          "data": {
            "text/plain": [
              "Index(['loan_amnt', 'funded_amnt', 'funded_amnt_inv', 'term', 'int_rate',\n",
              "       'installment', 'annual_inc', 'dti', 'delinq_2yrs', 'inq_last_6mths',\n",
              "       'mths_since_last_delinq', 'mths_since_last_record', 'open_acc',\n",
              "       'pub_rec', 'revol_bal', 'revol_util', 'total_acc', 'out_prncp',\n",
              "       'out_prncp_inv', 'total_pymnt', 'total_pymnt_inv', 'total_rec_prncp',\n",
              "       'total_rec_int', 'total_rec_late_fee', 'recoveries',\n",
              "       'collection_recovery_fee', 'last_pymnt_amnt',\n",
              "       'collections_12_mths_ex_med', 'policy_code', 'acc_now_delinq',\n",
              "       'chargeoff_within_12_mths', 'delinq_amnt', 'pub_rec_bankruptcies',\n",
              "       'tax_liens', 'issue_d_month'],\n",
              "      dtype='object')"
            ]
          },
          "metadata": {},
          "execution_count": 408
        }
      ]
    },
    {
      "cell_type": "code",
      "source": [
        "df_numeric.isnull().sum()"
      ],
      "metadata": {
        "colab": {
          "base_uri": "https://localhost:8080/"
        },
        "id": "LoRdNOStVnyD",
        "outputId": "ea000e50-838b-4e99-82d2-60f4228ee705"
      },
      "id": "LoRdNOStVnyD",
      "execution_count": null,
      "outputs": [
        {
          "output_type": "execute_result",
          "data": {
            "text/plain": [
              "loan_amnt                         0\n",
              "funded_amnt                       0\n",
              "funded_amnt_inv                   0\n",
              "term                              0\n",
              "int_rate                          0\n",
              "installment                       0\n",
              "annual_inc                        0\n",
              "dti                               0\n",
              "delinq_2yrs                       0\n",
              "inq_last_6mths                    0\n",
              "mths_since_last_delinq        25682\n",
              "mths_since_last_record        36931\n",
              "open_acc                          0\n",
              "pub_rec                           0\n",
              "revol_bal                         0\n",
              "revol_util                       50\n",
              "total_acc                         0\n",
              "out_prncp                         0\n",
              "out_prncp_inv                     0\n",
              "total_pymnt                       0\n",
              "total_pymnt_inv                   0\n",
              "total_rec_prncp                   0\n",
              "total_rec_int                     0\n",
              "total_rec_late_fee                0\n",
              "recoveries                        0\n",
              "collection_recovery_fee           0\n",
              "last_pymnt_amnt                   0\n",
              "collections_12_mths_ex_med       56\n",
              "policy_code                       0\n",
              "acc_now_delinq                    0\n",
              "chargeoff_within_12_mths         56\n",
              "delinq_amnt                       0\n",
              "pub_rec_bankruptcies            697\n",
              "tax_liens                        39\n",
              "issue_d_month                     0\n",
              "dtype: int64"
            ]
          },
          "metadata": {},
          "execution_count": 409
        }
      ]
    },
    {
      "cell_type": "code",
      "source": [
        "#mths_since_last_record and mths_since_last_delinq has almost all null values so dropping it\n",
        "df_numeric=df_numeric.drop(['mths_since_last_record','mths_since_last_delinq'],axis=1)"
      ],
      "metadata": {
        "id": "M4AY3XU5Vu8O"
      },
      "id": "M4AY3XU5Vu8O",
      "execution_count": null,
      "outputs": []
    },
    {
      "cell_type": "code",
      "source": [
        "df_numeric.describe()"
      ],
      "metadata": {
        "colab": {
          "base_uri": "https://localhost:8080/",
          "height": 350
        },
        "id": "VW9_SfOxV8LR",
        "outputId": "62e01113-039b-4c37-ec13-0f34d449ca40"
      },
      "id": "VW9_SfOxV8LR",
      "execution_count": null,
      "outputs": [
        {
          "output_type": "execute_result",
          "data": {
            "text/plain": [
              "          loan_amnt   funded_amnt  funded_amnt_inv          term  \\\n",
              "count  39717.000000  39717.000000     39717.000000  39717.000000   \n",
              "mean   11219.443815  10947.713196     10397.448868     42.418007   \n",
              "std     7456.670694   7187.238670      7128.450439     10.622815   \n",
              "min      500.000000    500.000000         0.000000     36.000000   \n",
              "25%     5500.000000   5400.000000      5000.000000     36.000000   \n",
              "50%    10000.000000   9600.000000      8975.000000     36.000000   \n",
              "75%    15000.000000  15000.000000     14400.000000     60.000000   \n",
              "max    35000.000000  35000.000000     35000.000000     60.000000   \n",
              "\n",
              "           int_rate   installment    annual_inc           dti   delinq_2yrs  \\\n",
              "count  39717.000000  39717.000000  3.971700e+04  39717.000000  39717.000000   \n",
              "mean      12.021177    324.561922  6.896893e+04     13.315130      0.146512   \n",
              "std        3.724825    208.874874  6.379377e+04      6.678594      0.491812   \n",
              "min        5.420000     15.690000  4.000000e+03      0.000000      0.000000   \n",
              "25%        9.250000    167.020000  4.040400e+04      8.170000      0.000000   \n",
              "50%       11.860000    280.220000  5.900000e+04     13.400000      0.000000   \n",
              "75%       14.590000    430.780000  8.230000e+04     18.600000      0.000000   \n",
              "max       24.590000   1305.190000  6.000000e+06     29.990000     11.000000   \n",
              "\n",
              "       inq_last_6mths  ...  collection_recovery_fee  last_pymnt_amnt  \\\n",
              "count    39717.000000  ...             39717.000000     39717.000000   \n",
              "mean         0.869200  ...                12.406112      2678.826162   \n",
              "std          1.070219  ...               148.671593      4447.136012   \n",
              "min          0.000000  ...                 0.000000         0.000000   \n",
              "25%          0.000000  ...                 0.000000       218.680000   \n",
              "50%          1.000000  ...                 0.000000       546.140000   \n",
              "75%          1.000000  ...                 0.000000      3293.160000   \n",
              "max          8.000000  ...              7002.190000     36115.200000   \n",
              "\n",
              "       collections_12_mths_ex_med  policy_code  acc_now_delinq  \\\n",
              "count                     39661.0      39717.0         39717.0   \n",
              "mean                          0.0          1.0             0.0   \n",
              "std                           0.0          0.0             0.0   \n",
              "min                           0.0          1.0             0.0   \n",
              "25%                           0.0          1.0             0.0   \n",
              "50%                           0.0          1.0             0.0   \n",
              "75%                           0.0          1.0             0.0   \n",
              "max                           0.0          1.0             0.0   \n",
              "\n",
              "       chargeoff_within_12_mths  delinq_amnt  pub_rec_bankruptcies  tax_liens  \\\n",
              "count                   39661.0      39717.0          39020.000000    39678.0   \n",
              "mean                        0.0          0.0              0.043260        0.0   \n",
              "std                         0.0          0.0              0.204324        0.0   \n",
              "min                         0.0          0.0              0.000000        0.0   \n",
              "25%                         0.0          0.0              0.000000        0.0   \n",
              "50%                         0.0          0.0              0.000000        0.0   \n",
              "75%                         0.0          0.0              0.000000        0.0   \n",
              "max                         0.0          0.0              2.000000        0.0   \n",
              "\n",
              "       issue_d_month  \n",
              "count   39717.000000  \n",
              "mean        7.172168  \n",
              "std         3.396910  \n",
              "min         1.000000  \n",
              "25%         4.000000  \n",
              "50%         7.000000  \n",
              "75%        10.000000  \n",
              "max        12.000000  \n",
              "\n",
              "[8 rows x 33 columns]"
            ],
            "text/html": [
              "\n",
              "  <div id=\"df-293f8373-99e1-4fc4-99d2-074e32e4e117\" class=\"colab-df-container\">\n",
              "    <div>\n",
              "<style scoped>\n",
              "    .dataframe tbody tr th:only-of-type {\n",
              "        vertical-align: middle;\n",
              "    }\n",
              "\n",
              "    .dataframe tbody tr th {\n",
              "        vertical-align: top;\n",
              "    }\n",
              "\n",
              "    .dataframe thead th {\n",
              "        text-align: right;\n",
              "    }\n",
              "</style>\n",
              "<table border=\"1\" class=\"dataframe\">\n",
              "  <thead>\n",
              "    <tr style=\"text-align: right;\">\n",
              "      <th></th>\n",
              "      <th>loan_amnt</th>\n",
              "      <th>funded_amnt</th>\n",
              "      <th>funded_amnt_inv</th>\n",
              "      <th>term</th>\n",
              "      <th>int_rate</th>\n",
              "      <th>installment</th>\n",
              "      <th>annual_inc</th>\n",
              "      <th>dti</th>\n",
              "      <th>delinq_2yrs</th>\n",
              "      <th>inq_last_6mths</th>\n",
              "      <th>...</th>\n",
              "      <th>collection_recovery_fee</th>\n",
              "      <th>last_pymnt_amnt</th>\n",
              "      <th>collections_12_mths_ex_med</th>\n",
              "      <th>policy_code</th>\n",
              "      <th>acc_now_delinq</th>\n",
              "      <th>chargeoff_within_12_mths</th>\n",
              "      <th>delinq_amnt</th>\n",
              "      <th>pub_rec_bankruptcies</th>\n",
              "      <th>tax_liens</th>\n",
              "      <th>issue_d_month</th>\n",
              "    </tr>\n",
              "  </thead>\n",
              "  <tbody>\n",
              "    <tr>\n",
              "      <th>count</th>\n",
              "      <td>39717.000000</td>\n",
              "      <td>39717.000000</td>\n",
              "      <td>39717.000000</td>\n",
              "      <td>39717.000000</td>\n",
              "      <td>39717.000000</td>\n",
              "      <td>39717.000000</td>\n",
              "      <td>3.971700e+04</td>\n",
              "      <td>39717.000000</td>\n",
              "      <td>39717.000000</td>\n",
              "      <td>39717.000000</td>\n",
              "      <td>...</td>\n",
              "      <td>39717.000000</td>\n",
              "      <td>39717.000000</td>\n",
              "      <td>39661.0</td>\n",
              "      <td>39717.0</td>\n",
              "      <td>39717.0</td>\n",
              "      <td>39661.0</td>\n",
              "      <td>39717.0</td>\n",
              "      <td>39020.000000</td>\n",
              "      <td>39678.0</td>\n",
              "      <td>39717.000000</td>\n",
              "    </tr>\n",
              "    <tr>\n",
              "      <th>mean</th>\n",
              "      <td>11219.443815</td>\n",
              "      <td>10947.713196</td>\n",
              "      <td>10397.448868</td>\n",
              "      <td>42.418007</td>\n",
              "      <td>12.021177</td>\n",
              "      <td>324.561922</td>\n",
              "      <td>6.896893e+04</td>\n",
              "      <td>13.315130</td>\n",
              "      <td>0.146512</td>\n",
              "      <td>0.869200</td>\n",
              "      <td>...</td>\n",
              "      <td>12.406112</td>\n",
              "      <td>2678.826162</td>\n",
              "      <td>0.0</td>\n",
              "      <td>1.0</td>\n",
              "      <td>0.0</td>\n",
              "      <td>0.0</td>\n",
              "      <td>0.0</td>\n",
              "      <td>0.043260</td>\n",
              "      <td>0.0</td>\n",
              "      <td>7.172168</td>\n",
              "    </tr>\n",
              "    <tr>\n",
              "      <th>std</th>\n",
              "      <td>7456.670694</td>\n",
              "      <td>7187.238670</td>\n",
              "      <td>7128.450439</td>\n",
              "      <td>10.622815</td>\n",
              "      <td>3.724825</td>\n",
              "      <td>208.874874</td>\n",
              "      <td>6.379377e+04</td>\n",
              "      <td>6.678594</td>\n",
              "      <td>0.491812</td>\n",
              "      <td>1.070219</td>\n",
              "      <td>...</td>\n",
              "      <td>148.671593</td>\n",
              "      <td>4447.136012</td>\n",
              "      <td>0.0</td>\n",
              "      <td>0.0</td>\n",
              "      <td>0.0</td>\n",
              "      <td>0.0</td>\n",
              "      <td>0.0</td>\n",
              "      <td>0.204324</td>\n",
              "      <td>0.0</td>\n",
              "      <td>3.396910</td>\n",
              "    </tr>\n",
              "    <tr>\n",
              "      <th>min</th>\n",
              "      <td>500.000000</td>\n",
              "      <td>500.000000</td>\n",
              "      <td>0.000000</td>\n",
              "      <td>36.000000</td>\n",
              "      <td>5.420000</td>\n",
              "      <td>15.690000</td>\n",
              "      <td>4.000000e+03</td>\n",
              "      <td>0.000000</td>\n",
              "      <td>0.000000</td>\n",
              "      <td>0.000000</td>\n",
              "      <td>...</td>\n",
              "      <td>0.000000</td>\n",
              "      <td>0.000000</td>\n",
              "      <td>0.0</td>\n",
              "      <td>1.0</td>\n",
              "      <td>0.0</td>\n",
              "      <td>0.0</td>\n",
              "      <td>0.0</td>\n",
              "      <td>0.000000</td>\n",
              "      <td>0.0</td>\n",
              "      <td>1.000000</td>\n",
              "    </tr>\n",
              "    <tr>\n",
              "      <th>25%</th>\n",
              "      <td>5500.000000</td>\n",
              "      <td>5400.000000</td>\n",
              "      <td>5000.000000</td>\n",
              "      <td>36.000000</td>\n",
              "      <td>9.250000</td>\n",
              "      <td>167.020000</td>\n",
              "      <td>4.040400e+04</td>\n",
              "      <td>8.170000</td>\n",
              "      <td>0.000000</td>\n",
              "      <td>0.000000</td>\n",
              "      <td>...</td>\n",
              "      <td>0.000000</td>\n",
              "      <td>218.680000</td>\n",
              "      <td>0.0</td>\n",
              "      <td>1.0</td>\n",
              "      <td>0.0</td>\n",
              "      <td>0.0</td>\n",
              "      <td>0.0</td>\n",
              "      <td>0.000000</td>\n",
              "      <td>0.0</td>\n",
              "      <td>4.000000</td>\n",
              "    </tr>\n",
              "    <tr>\n",
              "      <th>50%</th>\n",
              "      <td>10000.000000</td>\n",
              "      <td>9600.000000</td>\n",
              "      <td>8975.000000</td>\n",
              "      <td>36.000000</td>\n",
              "      <td>11.860000</td>\n",
              "      <td>280.220000</td>\n",
              "      <td>5.900000e+04</td>\n",
              "      <td>13.400000</td>\n",
              "      <td>0.000000</td>\n",
              "      <td>1.000000</td>\n",
              "      <td>...</td>\n",
              "      <td>0.000000</td>\n",
              "      <td>546.140000</td>\n",
              "      <td>0.0</td>\n",
              "      <td>1.0</td>\n",
              "      <td>0.0</td>\n",
              "      <td>0.0</td>\n",
              "      <td>0.0</td>\n",
              "      <td>0.000000</td>\n",
              "      <td>0.0</td>\n",
              "      <td>7.000000</td>\n",
              "    </tr>\n",
              "    <tr>\n",
              "      <th>75%</th>\n",
              "      <td>15000.000000</td>\n",
              "      <td>15000.000000</td>\n",
              "      <td>14400.000000</td>\n",
              "      <td>60.000000</td>\n",
              "      <td>14.590000</td>\n",
              "      <td>430.780000</td>\n",
              "      <td>8.230000e+04</td>\n",
              "      <td>18.600000</td>\n",
              "      <td>0.000000</td>\n",
              "      <td>1.000000</td>\n",
              "      <td>...</td>\n",
              "      <td>0.000000</td>\n",
              "      <td>3293.160000</td>\n",
              "      <td>0.0</td>\n",
              "      <td>1.0</td>\n",
              "      <td>0.0</td>\n",
              "      <td>0.0</td>\n",
              "      <td>0.0</td>\n",
              "      <td>0.000000</td>\n",
              "      <td>0.0</td>\n",
              "      <td>10.000000</td>\n",
              "    </tr>\n",
              "    <tr>\n",
              "      <th>max</th>\n",
              "      <td>35000.000000</td>\n",
              "      <td>35000.000000</td>\n",
              "      <td>35000.000000</td>\n",
              "      <td>60.000000</td>\n",
              "      <td>24.590000</td>\n",
              "      <td>1305.190000</td>\n",
              "      <td>6.000000e+06</td>\n",
              "      <td>29.990000</td>\n",
              "      <td>11.000000</td>\n",
              "      <td>8.000000</td>\n",
              "      <td>...</td>\n",
              "      <td>7002.190000</td>\n",
              "      <td>36115.200000</td>\n",
              "      <td>0.0</td>\n",
              "      <td>1.0</td>\n",
              "      <td>0.0</td>\n",
              "      <td>0.0</td>\n",
              "      <td>0.0</td>\n",
              "      <td>2.000000</td>\n",
              "      <td>0.0</td>\n",
              "      <td>12.000000</td>\n",
              "    </tr>\n",
              "  </tbody>\n",
              "</table>\n",
              "<p>8 rows × 33 columns</p>\n",
              "</div>\n",
              "    <div class=\"colab-df-buttons\">\n",
              "\n",
              "  <div class=\"colab-df-container\">\n",
              "    <button class=\"colab-df-convert\" onclick=\"convertToInteractive('df-293f8373-99e1-4fc4-99d2-074e32e4e117')\"\n",
              "            title=\"Convert this dataframe to an interactive table.\"\n",
              "            style=\"display:none;\">\n",
              "\n",
              "  <svg xmlns=\"http://www.w3.org/2000/svg\" height=\"24px\" viewBox=\"0 -960 960 960\">\n",
              "    <path d=\"M120-120v-720h720v720H120Zm60-500h600v-160H180v160Zm220 220h160v-160H400v160Zm0 220h160v-160H400v160ZM180-400h160v-160H180v160Zm440 0h160v-160H620v160ZM180-180h160v-160H180v160Zm440 0h160v-160H620v160Z\"/>\n",
              "  </svg>\n",
              "    </button>\n",
              "\n",
              "  <style>\n",
              "    .colab-df-container {\n",
              "      display:flex;\n",
              "      gap: 12px;\n",
              "    }\n",
              "\n",
              "    .colab-df-convert {\n",
              "      background-color: #E8F0FE;\n",
              "      border: none;\n",
              "      border-radius: 50%;\n",
              "      cursor: pointer;\n",
              "      display: none;\n",
              "      fill: #1967D2;\n",
              "      height: 32px;\n",
              "      padding: 0 0 0 0;\n",
              "      width: 32px;\n",
              "    }\n",
              "\n",
              "    .colab-df-convert:hover {\n",
              "      background-color: #E2EBFA;\n",
              "      box-shadow: 0px 1px 2px rgba(60, 64, 67, 0.3), 0px 1px 3px 1px rgba(60, 64, 67, 0.15);\n",
              "      fill: #174EA6;\n",
              "    }\n",
              "\n",
              "    .colab-df-buttons div {\n",
              "      margin-bottom: 4px;\n",
              "    }\n",
              "\n",
              "    [theme=dark] .colab-df-convert {\n",
              "      background-color: #3B4455;\n",
              "      fill: #D2E3FC;\n",
              "    }\n",
              "\n",
              "    [theme=dark] .colab-df-convert:hover {\n",
              "      background-color: #434B5C;\n",
              "      box-shadow: 0px 1px 3px 1px rgba(0, 0, 0, 0.15);\n",
              "      filter: drop-shadow(0px 1px 2px rgba(0, 0, 0, 0.3));\n",
              "      fill: #FFFFFF;\n",
              "    }\n",
              "  </style>\n",
              "\n",
              "    <script>\n",
              "      const buttonEl =\n",
              "        document.querySelector('#df-293f8373-99e1-4fc4-99d2-074e32e4e117 button.colab-df-convert');\n",
              "      buttonEl.style.display =\n",
              "        google.colab.kernel.accessAllowed ? 'block' : 'none';\n",
              "\n",
              "      async function convertToInteractive(key) {\n",
              "        const element = document.querySelector('#df-293f8373-99e1-4fc4-99d2-074e32e4e117');\n",
              "        const dataTable =\n",
              "          await google.colab.kernel.invokeFunction('convertToInteractive',\n",
              "                                                    [key], {});\n",
              "        if (!dataTable) return;\n",
              "\n",
              "        const docLinkHtml = 'Like what you see? Visit the ' +\n",
              "          '<a target=\"_blank\" href=https://colab.research.google.com/notebooks/data_table.ipynb>data table notebook</a>'\n",
              "          + ' to learn more about interactive tables.';\n",
              "        element.innerHTML = '';\n",
              "        dataTable['output_type'] = 'display_data';\n",
              "        await google.colab.output.renderOutput(dataTable, element);\n",
              "        const docLink = document.createElement('div');\n",
              "        docLink.innerHTML = docLinkHtml;\n",
              "        element.appendChild(docLink);\n",
              "      }\n",
              "    </script>\n",
              "  </div>\n",
              "\n",
              "\n",
              "<div id=\"df-f1463460-b277-41e0-bffe-61a8f1340cf9\">\n",
              "  <button class=\"colab-df-quickchart\" onclick=\"quickchart('df-f1463460-b277-41e0-bffe-61a8f1340cf9')\"\n",
              "            title=\"Suggest charts\"\n",
              "            style=\"display:none;\">\n",
              "\n",
              "<svg xmlns=\"http://www.w3.org/2000/svg\" height=\"24px\"viewBox=\"0 0 24 24\"\n",
              "     width=\"24px\">\n",
              "    <g>\n",
              "        <path d=\"M19 3H5c-1.1 0-2 .9-2 2v14c0 1.1.9 2 2 2h14c1.1 0 2-.9 2-2V5c0-1.1-.9-2-2-2zM9 17H7v-7h2v7zm4 0h-2V7h2v10zm4 0h-2v-4h2v4z\"/>\n",
              "    </g>\n",
              "</svg>\n",
              "  </button>\n",
              "\n",
              "<style>\n",
              "  .colab-df-quickchart {\n",
              "      --bg-color: #E8F0FE;\n",
              "      --fill-color: #1967D2;\n",
              "      --hover-bg-color: #E2EBFA;\n",
              "      --hover-fill-color: #174EA6;\n",
              "      --disabled-fill-color: #AAA;\n",
              "      --disabled-bg-color: #DDD;\n",
              "  }\n",
              "\n",
              "  [theme=dark] .colab-df-quickchart {\n",
              "      --bg-color: #3B4455;\n",
              "      --fill-color: #D2E3FC;\n",
              "      --hover-bg-color: #434B5C;\n",
              "      --hover-fill-color: #FFFFFF;\n",
              "      --disabled-bg-color: #3B4455;\n",
              "      --disabled-fill-color: #666;\n",
              "  }\n",
              "\n",
              "  .colab-df-quickchart {\n",
              "    background-color: var(--bg-color);\n",
              "    border: none;\n",
              "    border-radius: 50%;\n",
              "    cursor: pointer;\n",
              "    display: none;\n",
              "    fill: var(--fill-color);\n",
              "    height: 32px;\n",
              "    padding: 0;\n",
              "    width: 32px;\n",
              "  }\n",
              "\n",
              "  .colab-df-quickchart:hover {\n",
              "    background-color: var(--hover-bg-color);\n",
              "    box-shadow: 0 1px 2px rgba(60, 64, 67, 0.3), 0 1px 3px 1px rgba(60, 64, 67, 0.15);\n",
              "    fill: var(--button-hover-fill-color);\n",
              "  }\n",
              "\n",
              "  .colab-df-quickchart-complete:disabled,\n",
              "  .colab-df-quickchart-complete:disabled:hover {\n",
              "    background-color: var(--disabled-bg-color);\n",
              "    fill: var(--disabled-fill-color);\n",
              "    box-shadow: none;\n",
              "  }\n",
              "\n",
              "  .colab-df-spinner {\n",
              "    border: 2px solid var(--fill-color);\n",
              "    border-color: transparent;\n",
              "    border-bottom-color: var(--fill-color);\n",
              "    animation:\n",
              "      spin 1s steps(1) infinite;\n",
              "  }\n",
              "\n",
              "  @keyframes spin {\n",
              "    0% {\n",
              "      border-color: transparent;\n",
              "      border-bottom-color: var(--fill-color);\n",
              "      border-left-color: var(--fill-color);\n",
              "    }\n",
              "    20% {\n",
              "      border-color: transparent;\n",
              "      border-left-color: var(--fill-color);\n",
              "      border-top-color: var(--fill-color);\n",
              "    }\n",
              "    30% {\n",
              "      border-color: transparent;\n",
              "      border-left-color: var(--fill-color);\n",
              "      border-top-color: var(--fill-color);\n",
              "      border-right-color: var(--fill-color);\n",
              "    }\n",
              "    40% {\n",
              "      border-color: transparent;\n",
              "      border-right-color: var(--fill-color);\n",
              "      border-top-color: var(--fill-color);\n",
              "    }\n",
              "    60% {\n",
              "      border-color: transparent;\n",
              "      border-right-color: var(--fill-color);\n",
              "    }\n",
              "    80% {\n",
              "      border-color: transparent;\n",
              "      border-right-color: var(--fill-color);\n",
              "      border-bottom-color: var(--fill-color);\n",
              "    }\n",
              "    90% {\n",
              "      border-color: transparent;\n",
              "      border-bottom-color: var(--fill-color);\n",
              "    }\n",
              "  }\n",
              "</style>\n",
              "\n",
              "  <script>\n",
              "    async function quickchart(key) {\n",
              "      const quickchartButtonEl =\n",
              "        document.querySelector('#' + key + ' button');\n",
              "      quickchartButtonEl.disabled = true;  // To prevent multiple clicks.\n",
              "      quickchartButtonEl.classList.add('colab-df-spinner');\n",
              "      try {\n",
              "        const charts = await google.colab.kernel.invokeFunction(\n",
              "            'suggestCharts', [key], {});\n",
              "      } catch (error) {\n",
              "        console.error('Error during call to suggestCharts:', error);\n",
              "      }\n",
              "      quickchartButtonEl.classList.remove('colab-df-spinner');\n",
              "      quickchartButtonEl.classList.add('colab-df-quickchart-complete');\n",
              "    }\n",
              "    (() => {\n",
              "      let quickchartButtonEl =\n",
              "        document.querySelector('#df-f1463460-b277-41e0-bffe-61a8f1340cf9 button');\n",
              "      quickchartButtonEl.style.display =\n",
              "        google.colab.kernel.accessAllowed ? 'block' : 'none';\n",
              "    })();\n",
              "  </script>\n",
              "</div>\n",
              "    </div>\n",
              "  </div>\n"
            ]
          },
          "metadata": {},
          "execution_count": 411
        }
      ]
    },
    {
      "cell_type": "code",
      "source": [
        "def visualize_boxplot(column_name):\n",
        "  sns.boxplot(data=df_numeric,x=df_numeric[column_name]);\n",
        "  plt.show()\n",
        "for i in df_numeric.columns:\n",
        "  visualize_boxplot(i)"
      ],
      "metadata": {
        "colab": {
          "base_uri": "https://localhost:8080/",
          "height": 1000
        },
        "id": "Mfcy1-8DWCG9",
        "outputId": "6dedb44c-e9f1-42fa-ec5b-bf1fc9b21cc0"
      },
      "id": "Mfcy1-8DWCG9",
      "execution_count": null,
      "outputs": [
        {
          "output_type": "display_data",
          "data": {
            "text/plain": [
              "<Figure size 640x480 with 1 Axes>"
            ],
            "image/png": "[encoded data removed]"
          },
          "metadata": {}
        },
        {
          "output_type": "display_data",
          "data": {
            "text/plain": [
              "<Figure size 640x480 with 1 Axes>"
            ],
            "image/png": "[encoded data removed]"
          },
          "metadata": {}
        },
        {
          "output_type": "display_data",
          "data": {
            "text/plain": [
              "<Figure size 640x480 with 1 Axes>"
            ],
            "image/png": "[encoded data removed]"
          },
          "metadata": {}
        },
        {
          "output_type": "display_data",
          "data": {
            "text/plain": [
              "<Figure size 640x480 with 1 Axes>"
            ],
            "image/png": "[encoded data removed]"
          },
          "metadata": {}
        },
        {
          "output_type": "display_data",
          "data": {
            "text/plain": [
              "<Figure size 640x480 with 1 Axes>"
            ],
            "image/png": "[encoded data removed]"
          },
          "metadata": {}
        },
        {
          "output_type": "display_data",
          "data": {
            "text/plain": [
              "<Figure size 640x480 with 1 Axes>"
            ],
            "image/png": "[encoded data removed]"
          },
          "metadata": {}
        },
        {
          "output_type": "display_data",
          "data": {
            "text/plain": [
              "<Figure size 640x480 with 1 Axes>"
            ],
            "image/png": "[encoded data removed]"
          },
          "metadata": {}
        },
        {
          "output_type": "display_data",
          "data": {
            "text/plain": [
              "<Figure size 640x480 with 1 Axes>"
            ],
            "image/png": "[encoded data removed]"
          },
          "metadata": {}
        },
        {
          "output_type": "display_data",
          "data": {
            "text/plain": [
              "<Figure size 640x480 with 1 Axes>"
            ],
            "image/png": "[encoded data removed]"
          },
          "metadata": {}
        },
        {
          "output_type": "display_data",
          "data": {
            "text/plain": [
              "<Figure size 640x480 with 1 Axes>"
            ],
            "image/png": "[encoded data removed]"
          },
          "metadata": {}
        },
        {
          "output_type": "display_data",
          "data": {
            "text/plain": [
              "<Figure size 640x480 with 1 Axes>"
            ],
            "image/png": "[encoded data removed]"
          },
          "metadata": {}
        },
        {
          "output_type": "display_data",
          "data": {
            "text/plain": [
              "<Figure size 640x480 with 1 Axes>"
            ],
            "image/png": "[encoded data removed]"
          },
          "metadata": {}
        },
        {
          "output_type": "display_data",
          "data": {
            "text/plain": [
              "<Figure size 640x480 with 1 Axes>"
            ],
            "image/png": "[encoded data removed]"
          },
          "metadata": {}
        },
        {
          "output_type": "display_data",
          "data": {
            "text/plain": [
              "<Figure size 640x480 with 1 Axes>"
            ],
            "image/png": "[encoded data removed]"
          },
          "metadata": {}
        },
        {
          "output_type": "display_data",
          "data": {
            "text/plain": [
              "<Figure size 640x480 with 1 Axes>"
            ],
            "image/png": "[encoded data removed]"
          },
          "metadata": {}
        },
        {
          "output_type": "display_data",
          "data": {
            "text/plain": [
              "<Figure size 640x480 with 1 Axes>"
            ],
            "image/png": "[encoded data removed]"
          },
          "metadata": {}
        },
        {
          "output_type": "display_data",
          "data": {
            "text/plain": [
              "<Figure size 640x480 with 1 Axes>"
            ],
            "image/png": "[encoded data removed]"
          },
          "metadata": {}
        },
        {
          "output_type": "display_data",
          "data": {
            "text/plain": [
              "<Figure size 640x480 with 1 Axes>"
            ],
            "image/png": "[encoded data removed]"
          },
          "metadata": {}
        },
        {
          "output_type": "display_data",
          "data": {
            "text/plain": [
              "<Figure size 640x480 with 1 Axes>"
            ],
            "image/png": "[encoded data removed]"
          },
          "metadata": {}
        },
        {
          "output_type": "display_data",
          "data": {
            "text/plain": [
              "<Figure size 640x480 with 1 Axes>"
            ],
            "image/png": "[encoded data removed]"
          },
          "metadata": {}
        },
        {
          "output_type": "display_data",
          "data": {
            "text/plain": [
              "<Figure size 640x480 with 1 Axes>"
            ],
            "image/png": "[encoded data removed]"
          },
          "metadata": {}
        },
        {
          "output_type": "display_data",
          "data": {
            "text/plain": [
              "<Figure size 640x480 with 1 Axes>"
            ],
            "image/png": "[encoded data removed]"
          },
          "metadata": {}
        },
        {
          "output_type": "display_data",
          "data": {
            "text/plain": [
              "<Figure size 640x480 with 1 Axes>"
            ],
            "image/png": "[encoded data removed]"
          },
          "metadata": {}
        },
        {
          "output_type": "display_data",
          "data": {
            "text/plain": [
              "<Figure size 640x480 with 1 Axes>"
            ],
            "image/png": "[encoded data removed]"
          },
          "metadata": {}
        },
        {
          "output_type": "display_data",
          "data": {
            "text/plain": [
              "<Figure size 640x480 with 1 Axes>"
            ],
            "image/png": "[encoded data removed]"
          },
          "metadata": {}
        },
        {
          "output_type": "display_data",
          "data": {
            "text/plain": [
              "<Figure size 640x480 with 1 Axes>"
            ],
            "image/png": "[encoded data removed]"
          },
          "metadata": {}
        },
        {
          "output_type": "display_data",
          "data": {
            "text/plain": [
              "<Figure size 640x480 with 1 Axes>"
            ],
            "image/png": "[encoded data removed]"
          },
          "metadata": {}
        },
        {
          "output_type": "display_data",
          "data": {
            "text/plain": [
              "<Figure size 640x480 with 1 Axes>"
            ],
            "image/png": "[encoded data removed]"
          },
          "metadata": {}
        },
        {
          "output_type": "display_data",
          "data": {
            "text/plain": [
              "<Figure size 640x480 with 1 Axes>"
            ],
            "image/png": "[encoded data removed]"
          },
          "metadata": {}
        }
      ]
    },
    {
      "cell_type": "code",
      "source": [
        "for i in df_numeric.columns:\n",
        "  print(i)\n",
        "  print(df_numeric[i].value_counts())"
      ],
      "metadata": {
        "id": "tdlmKjh9WuW9"
      },
      "id": "tdlmKjh9WuW9",
      "execution_count": null,
      "outputs": []
    },
    {
      "cell_type": "code",
      "source": [
        "#dropping collections_12_mths_ex_med,policy_code,acc_now_delinq,chargeoff_within_12_mths,delinq_amnt,tax_liens because they have same values in the respective columns\n",
        "df_numeric=df_numeric.drop(['collections_12_mths_ex_med','policy_code','acc_now_delinq','chargeoff_within_12_mths','delinq_amnt','tax_liens'],axis=1)"
      ],
      "metadata": {
        "id": "5ycSK3YqXqQR"
      },
      "id": "5ycSK3YqXqQR",
      "execution_count": null,
      "outputs": []
    },
    {
      "cell_type": "code",
      "source": [
        "df_numeric.columns"
      ],
      "metadata": {
        "id": "zc_mspl2Yq5Y"
      },
      "id": "zc_mspl2Yq5Y",
      "execution_count": null,
      "outputs": []
    },
    {
      "cell_type": "code",
      "source": [
        "#dropping funded_amnt_inv,out_prncp_inv,total_pymnt_inv as they are derived features\n",
        "df_numeric=df_numeric.drop(['funded_amnt_inv','out_prncp_inv','total_pymnt_inv'],axis=1)"
      ],
      "metadata": {
        "id": "YURpQCiQYw5u"
      },
      "id": "YURpQCiQYw5u",
      "execution_count": null,
      "outputs": []
    },
    {
      "cell_type": "code",
      "source": [
        "loan['issue_d']"
      ],
      "metadata": {
        "id": "J-SYI0Zvdi1p"
      },
      "id": "J-SYI0Zvdi1p",
      "execution_count": null,
      "outputs": []
    },
    {
      "cell_type": "code",
      "source": [
        "#imputing missing values\n",
        "df_numeric['pub_rec_bankruptcies']=df_numeric['pub_rec_bankruptcies'].fillna(df_numeric['pub_rec_bankruptcies'].median)\n",
        "df_numeric['revol_util']=df_numeric['revol_util'].fillna(df_numeric['revol_util'].median)\n",
        "df_numeric.isnull().sum()"
      ],
      "metadata": {
        "id": "XKNqm3hMhHLa"
      },
      "id": "XKNqm3hMhHLa",
      "execution_count": null,
      "outputs": []
    },
    {
      "cell_type": "code",
      "source": [
        "df=pd.concat([df_categorical,df_numeric],axis=1)"
      ],
      "metadata": {
        "id": "fC84pyDVaS2i"
      },
      "id": "fC84pyDVaS2i",
      "execution_count": null,
      "outputs": []
    },
    {
      "cell_type": "code",
      "execution_count": null,
      "id": "c75e9fac",
      "metadata": {
        "id": "c75e9fac"
      },
      "outputs": [],
      "source": [
        "plt.figure(figsize=(20, 8))\n",
        "plt.title('Term Distribution')\n",
        "df['term'].value_counts().plot(kind='pie', autopct='%1.1f%%')"
      ]
    },
    {
      "cell_type": "code",
      "execution_count": null,
      "id": "bad6d4c0",
      "metadata": {
        "id": "bad6d4c0"
      },
      "outputs": [],
      "source": [
        "plt.figure(figsize=(20, 8))\n",
        "plt.title('Employment Length Distribution')\n",
        "df['emp_length'].value_counts().plot(kind='pie', autopct='%1.1f%%')"
      ]
    },
    {
      "cell_type": "code",
      "execution_count": null,
      "id": "3fda5b3b",
      "metadata": {
        "id": "3fda5b3b"
      },
      "outputs": [],
      "source": [
        "plt.figure(figsize=(20, 8))\n",
        "plt.title('Inquiry Last 6 months Distribution')\n",
        "df['inq_last_6mths'].value_counts().plot(kind='bar')"
      ]
    },
    {
      "cell_type": "code",
      "execution_count": null,
      "id": "4a3a454e",
      "metadata": {
        "id": "4a3a454e"
      },
      "outputs": [],
      "source": [
        "plt.figure(figsize=(20, 8))\n",
        "plt.title('Home Ownership Distribution')\n",
        "df['home_ownership'].value_counts().plot(kind='pie', autopct='%1.1f%%')"
      ]
    },
    {
      "cell_type": "code",
      "execution_count": null,
      "id": "f71c24dc",
      "metadata": {
        "id": "f71c24dc"
      },
      "outputs": [],
      "source": [
        "plt.figure(figsize=(20, 8))\n",
        "plt.title('Verification Status Distribution')\n",
        "df['verification_status'].value_counts().plot(kind='pie', autopct='%1.1f%%')"
      ]
    },
    {
      "cell_type": "code",
      "execution_count": null,
      "id": "3a224608",
      "metadata": {
        "id": "3a224608"
      },
      "outputs": [],
      "source": [
        "plt.figure(figsize=(20, 8))\n",
        "plt.title('Purpose Distribution')\n",
        "df['purpose'].value_counts().plot(kind='bar')"
      ]
    },
    {
      "cell_type": "code",
      "execution_count": null,
      "id": "26bc6dd5",
      "metadata": {
        "id": "26bc6dd5"
      },
      "outputs": [],
      "source": [
        "plt.figure(figsize=(20, 8))\n",
        "plt.title('Address Distribution')\n",
        "df['addr_state'].value_counts().plot(kind='bar')\n",
        "plt.show()"
      ]
    },
    {
      "cell_type": "markdown",
      "id": "70ecd709",
      "metadata": {
        "id": "70ecd709"
      },
      "source": [
        "# Univariate Analysis"
      ]
    },
    {
      "cell_type": "code",
      "execution_count": null,
      "id": "55f03111",
      "metadata": {
        "id": "55f03111"
      },
      "outputs": [],
      "source": [
        "loan_charged_off = df.loc[loan['loan_status'] == 'Charged Off']\n"
      ]
    },
    {
      "cell_type": "code",
      "execution_count": null,
      "id": "73edccd8",
      "metadata": {
        "id": "73edccd8"
      },
      "outputs": [],
      "source": [
        "import seaborn as sns\n",
        "fig = plt.figure(figsize=(10, 5))\n",
        "ax1 = fig.add_subplot(121)\n",
        "ax2 = fig.add_subplot(122)\n",
        "plt.title('Persons - Term Frequency')\n",
        "plt.xlabel('Term')\n",
        "plt.ylabel('Frequency')\n",
        "term_count = df['term'].value_counts()\n",
        "ax1.bar(term_count.index, term_count.values, alpha=0.8)\n",
        "plt.title('Charged off persons - Term Frequency')\n",
        "plt.xlabel('Term')\n",
        "plt.ylabel('Frequency')\n",
        "loan_charged_off = df.loc[df['loan_status'] == 'Charged Off']\n",
        "term_count_charged_off = loan_charged_off['term'].value_counts()\n",
        "ax2.bar(term_count_charged_off.index, term_count_charged_off.values, alpha=0.8)\n",
        "plt.show()"
      ]
    },
    {
      "cell_type": "code",
      "execution_count": null,
      "id": "6b14e5c2",
      "metadata": {
        "id": "6b14e5c2"
      },
      "outputs": [],
      "source": [
        "term_count"
      ]
    },
    {
      "cell_type": "code",
      "execution_count": null,
      "id": "a8dd09ef",
      "metadata": {
        "id": "a8dd09ef"
      },
      "outputs": [],
      "source": [
        "term_count_charged_off\n"
      ]
    },
    {
      "cell_type": "code",
      "execution_count": null,
      "id": "7b01da27",
      "metadata": {
        "id": "7b01da27"
      },
      "outputs": [],
      "source": [
        "plt.figure(figsize=(14, 5))\n",
        "plt.subplot(1,2,1)\n",
        "plt.title('Collection Recovery Fee Distribution')\n",
        "plt.scatter(df.collection_recovery_fee, df.loan_status)\n",
        "plt.subplot(1,2,2)\n",
        "plt.title('Recoveries Distribution')\n",
        "plt.scatter(df.recoveries, df.loan_status)"
      ]
    },
    {
      "cell_type": "code",
      "execution_count": null,
      "id": "96d66408",
      "metadata": {
        "id": "96d66408"
      },
      "outputs": [],
      "source": [
        "sns.boxplot(y='inq_last_6mths', x='loan_status', data=df)\n"
      ]
    },
    {
      "cell_type": "code",
      "execution_count": null,
      "id": "4a67678c",
      "metadata": {
        "id": "4a67678c"
      },
      "outputs": [],
      "source": [
        "aggre= df.groupby(['emp_length','loan_status'])['emp_length'].agg(Frequency='count')\n",
        "aggre.Frequency.unstack().plot.bar(stacked=True)\n",
        "plt.title('Employment Length Distribution')\n",
        "aggre= loan_charged_off.groupby(['emp_length','loan_status'])['emp_length'].agg(Frequency='count')\n",
        "aggre.Frequency.unstack().plot.bar(stacked=True)\n",
        "plt.title('Employment Length Distribution [Charged Off]')"
      ]
    },
    {
      "cell_type": "code",
      "execution_count": null,
      "id": "039e58da",
      "metadata": {
        "id": "039e58da"
      },
      "outputs": [],
      "source": [
        "import seaborn as sns\n",
        "plt.figure(figsize=(10, 5))\n",
        "plt.title('Annual Inc Vs Total Late fee(Mean)')\n",
        "sns.barplot(y='total_rec_late_fee', x='annual_inc_type', hue=\"loan_status\", data=df, estimator=np.mean)\n"
      ]
    },
    {
      "cell_type": "markdown",
      "id": "912ad96b",
      "metadata": {
        "id": "912ad96b"
      },
      "source": [
        "# GRADED"
      ]
    },
    {
      "cell_type": "code",
      "execution_count": null,
      "id": "3a5ae799",
      "metadata": {
        "id": "3a5ae799"
      },
      "outputs": [],
      "source": [
        "# Grade\n",
        "\n",
        "crosstab = pd.crosstab(df['grade'], df['loan_status'],margins=True)\n",
        "crosstab['Probability_Charged Off'] = round((crosstab['Charged Off']/crosstab['All']),3)\n",
        "crosstab = crosstab[0:-1]\n",
        "linePlot = crosstab[['Probability_Charged Off']]\n",
        "ax = linePlot.plot(figsize=(10,8), marker='o',color = 'b')\n",
        "\n",
        "aggre= df.groupby(['grade','loan_status'])['grade'].agg(Frequency='count')\n",
        "aggre.Frequency.unstack().plot.bar(stacked=True, ax = ax, secondary_y=True)\n",
        "plt.title(\"Grade and its probability of being Charged Off\")\n",
        "\n",
        "## Subgrade\n",
        "crosstab = pd.crosstab(df['sub_grade'], df['loan_status'],margins=True)\n",
        "crosstab['Probability_Charged Off'] = round((crosstab['Charged Off']/crosstab['All']),3)\n",
        "crosstab = crosstab[0:-1]\n",
        "linePlot = crosstab[['Probability_Charged Off']]\n",
        "ax = linePlot.plot(figsize=(10,8), marker='o',color = 'b')\n",
        "\n",
        "aggre= df.groupby(['sub_grade','loan_status'])['sub_grade'].agg(Frequency='count')\n",
        "aggre.Frequency.unstack().plot.bar(stacked=True, ax = ax, secondary_y=True)\n",
        "plt.title(\"Sub Grade and its probability of being Charged Off\")"
      ]
    },
    {
      "cell_type": "code",
      "execution_count": null,
      "id": "3b9cd18e",
      "metadata": {
        "id": "3b9cd18e"
      },
      "outputs": [],
      "source": [
        "## Subgrade\n",
        "crosstab = pd.crosstab(df['home_ownership'], df['loan_status'],margins=True)\n",
        "crosstab['Probability_Charged Off'] = round((crosstab['Charged Off']/crosstab['All']),3)\n",
        "crosstab = crosstab[0:-1]\n",
        "linePlot = crosstab[['Probability_Charged Off']]\n",
        "ax = linePlot.plot(figsize=(10,8), marker='o',color = 'b')\n",
        "\n",
        "aggre= df.groupby(['home_ownership','loan_status'])['home_ownership'].agg(Frequency='count')\n",
        "aggre.Frequency.unstack().plot.bar(stacked=True, ax = ax, secondary_y=True)\n",
        "plt.title(\"Home ownership and its probability of being Charged Off\")\n",
        "plt.figure(figsize=(20, 11))\n",
        "plt.show()"
      ]
    },
    {
      "cell_type": "code",
      "execution_count": null,
      "id": "4febe799",
      "metadata": {
        "id": "4febe799"
      },
      "outputs": [],
      "source": []
    }
  ],
  "metadata": {
    "kernelspec": {
      "display_name": "Python 3 (ipykernel)",
      "language": "python",
      "name": "python3"
    },
    "language_info": {
      "codemirror_mode": {
        "name": "ipython",
        "version": 3
      },
      "file_extension": ".py",
      "mimetype": "text/x-python",
      "name": "python",
      "nbconvert_exporter": "python",
      "pygments_lexer": "ipython3",
      "version": "3.11.5"
    },
    "colab": {
      "provenance": []
    }
  },
  "nbformat": 4,
  "nbformat_minor": 5
}